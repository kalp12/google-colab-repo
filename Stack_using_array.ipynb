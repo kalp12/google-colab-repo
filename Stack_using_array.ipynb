{
  "nbformat": 4,
  "nbformat_minor": 0,
  "metadata": {
    "colab": {
      "provenance": [],
      "authorship_tag": "ABX9TyMILExIb4kPZlcvq5V53XT9",
      "include_colab_link": true
    },
    "kernelspec": {
      "name": "python3",
      "display_name": "Python 3"
    },
    "language_info": {
      "name": "python"
    }
  },
  "cells": [
    {
      "cell_type": "markdown",
      "metadata": {
        "id": "view-in-github",
        "colab_type": "text"
      },
      "source": [
        "<a href=\"https://colab.research.google.com/github/kalp12/google-colab-repo/blob/main/Stack_using_array.ipynb\" target=\"_parent\"><img src=\"https://colab.research.google.com/assets/colab-badge.svg\" alt=\"Open In Colab\"/></a>"
      ]
    },
    {
      "cell_type": "code",
      "execution_count": 46,
      "metadata": {
        "id": "Ugss5lyuoezv"
      },
      "outputs": [],
      "source": [
        "class Stack():\n",
        "\n",
        "  def __init__(self, size):\n",
        "    self.size = size\n",
        "    self.__stack = [None] * self.size          #if __stack we can not access this is to restrict usage\n",
        "    self.top = -1\n",
        "\n",
        "  def is_empty(self):\n",
        "    return self.top == -1\n",
        "\n",
        "  def push(self, value):\n",
        "\n",
        "    if self.top == self.size - 1:\n",
        "      return \"Stack Overflow\"\n",
        "    else:\n",
        "      self.top += 1\n",
        "      self.__stack[self.top] = value\n",
        "\n",
        "  def pop(self):\n",
        "    if self.is_empty():\n",
        "      return \"Stack Underflow\"\n",
        "    else:\n",
        "      data = self.__stack[self.top]\n",
        "      self.top -= 1\n",
        "      return data\n",
        "\n",
        "  def peek(self):\n",
        "    return self.__stack[self.top]\n",
        "\n",
        "  def traverse(self):\n",
        "    for i in range(self.top + 1):\n",
        "      print(self.__stack[i], end= ' ')\n"
      ]
    },
    {
      "cell_type": "code",
      "source": [
        "s = Stack(5)"
      ],
      "metadata": {
        "id": "TW6Zy5Vvbm_9"
      },
      "execution_count": 47,
      "outputs": []
    },
    {
      "cell_type": "code",
      "source": [
        "s.push(1)\n",
        "s.push(2)\n",
        "s.push(3)\n",
        "s.push(4)\n",
        "s.push(5)\n",
        "# s.push(6)"
      ],
      "metadata": {
        "id": "8aIa9ORpbqk-"
      },
      "execution_count": 48,
      "outputs": []
    },
    {
      "cell_type": "code",
      "source": [
        "s.stack"
      ],
      "metadata": {
        "colab": {
          "base_uri": "https://localhost:8080/",
          "height": 141
        },
        "id": "_LduH-5vbrAY",
        "outputId": "edb1c2c7-7c35-49e8-8f5a-561daa4c48bc"
      },
      "execution_count": 50,
      "outputs": [
        {
          "output_type": "error",
          "ename": "AttributeError",
          "evalue": "'Stack' object has no attribute '__stack'",
          "traceback": [
            "\u001b[0;31m---------------------------------------------------------------------------\u001b[0m",
            "\u001b[0;31mAttributeError\u001b[0m                            Traceback (most recent call last)",
            "\u001b[0;32m<ipython-input-50-544551f85de5>\u001b[0m in \u001b[0;36m<cell line: 1>\u001b[0;34m()\u001b[0m\n\u001b[0;32m----> 1\u001b[0;31m \u001b[0ms\u001b[0m\u001b[0;34m.\u001b[0m\u001b[0m__stack\u001b[0m\u001b[0;34m\u001b[0m\u001b[0;34m\u001b[0m\u001b[0m\n\u001b[0m",
            "\u001b[0;31mAttributeError\u001b[0m: 'Stack' object has no attribute '__stack'"
          ]
        }
      ]
    },
    {
      "cell_type": "code",
      "source": [
        "s.pop()"
      ],
      "metadata": {
        "colab": {
          "base_uri": "https://localhost:8080/"
        },
        "id": "KLi7KfrzkXJB",
        "outputId": "22387dc5-ecff-4cb2-f213-8b1c0bdff125"
      },
      "execution_count": 54,
      "outputs": [
        {
          "output_type": "execute_result",
          "data": {
            "text/plain": [
              "3"
            ]
          },
          "metadata": {},
          "execution_count": 54
        }
      ]
    },
    {
      "cell_type": "code",
      "source": [
        "s.traverse()"
      ],
      "metadata": {
        "colab": {
          "base_uri": "https://localhost:8080/"
        },
        "id": "y_DcmkmNkkjn",
        "outputId": "01228e74-8707-4090-ad27-389c6dbf791d"
      },
      "execution_count": 55,
      "outputs": [
        {
          "output_type": "stream",
          "name": "stdout",
          "text": [
            "1 2 "
          ]
        }
      ]
    }
  ]
}