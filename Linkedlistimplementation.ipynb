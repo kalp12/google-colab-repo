{
  "nbformat": 4,
  "nbformat_minor": 0,
  "metadata": {
    "colab": {
      "provenance": [],
      "authorship_tag": "ABX9TyMe7XbfyvPwmoKGiEv4Fdx+",
      "include_colab_link": true
    },
    "kernelspec": {
      "name": "python3",
      "display_name": "Python 3"
    },
    "language_info": {
      "name": "python"
    }
  },
  "cells": [
    {
      "cell_type": "markdown",
      "metadata": {
        "id": "view-in-github",
        "colab_type": "text"
      },
      "source": [
        "<a href=\"https://colab.research.google.com/github/kalp12/google-colab-repo/blob/main/Linkedlistimplementation.ipynb\" target=\"_parent\"><img src=\"https://colab.research.google.com/assets/colab-badge.svg\" alt=\"Open In Colab\"/></a>"
      ]
    },
    {
      "cell_type": "code",
      "source": [
        "class Node():\n",
        "\n",
        "  def __init__(self,value):\n",
        "\n",
        "    self.data = value\n",
        "    self.next = None"
      ],
      "metadata": {
        "id": "9rCYSBsmx1mU"
      },
      "execution_count": 5,
      "outputs": []
    },
    {
      "cell_type": "code",
      "source": [
        "a = Node(1)\n",
        "b = Node(2)\n",
        "c = Node(3)"
      ],
      "metadata": {
        "id": "F9GxQIOo6odX"
      },
      "execution_count": null,
      "outputs": []
    },
    {
      "cell_type": "code",
      "source": [
        "print(c.data)"
      ],
      "metadata": {
        "colab": {
          "base_uri": "https://localhost:8080/"
        },
        "id": "hIpeZcpw6qZT",
        "outputId": "dbd75c45-183a-4dc9-d1c9-7868423cf08e"
      },
      "execution_count": null,
      "outputs": [
        {
          "output_type": "stream",
          "name": "stdout",
          "text": [
            "3\n"
          ]
        }
      ]
    },
    {
      "cell_type": "code",
      "source": [
        "a.next = b\n",
        "b.next = c"
      ],
      "metadata": {
        "id": "aoJGLmIN6vHg"
      },
      "execution_count": null,
      "outputs": []
    },
    {
      "cell_type": "code",
      "source": [
        "id(a)"
      ],
      "metadata": {
        "colab": {
          "base_uri": "https://localhost:8080/"
        },
        "id": "YSsWRRod7BSK",
        "outputId": "21b98862-6927-4c8b-f1d8-5552b105fa0d"
      },
      "execution_count": null,
      "outputs": [
        {
          "output_type": "execute_result",
          "data": {
            "text/plain": [
              "136492685392240"
            ]
          },
          "metadata": {},
          "execution_count": 15
        }
      ]
    },
    {
      "cell_type": "code",
      "source": [
        "print(a.next)\n",
        "print(b.next)\n",
        "print(c.next)"
      ],
      "metadata": {
        "colab": {
          "base_uri": "https://localhost:8080/"
        },
        "id": "-kW3TGvu6yJG",
        "outputId": "eabcfff5-2705-48ed-dd3e-46bcfb05a5d5"
      },
      "execution_count": null,
      "outputs": [
        {
          "output_type": "stream",
          "name": "stdout",
          "text": [
            "<__main__.Node object at 0x7c23ae06e0b0>\n",
            "<__main__.Node object at 0x7c23ae06ea70>\n",
            "None\n"
          ]
        }
      ]
    },
    {
      "cell_type": "code",
      "source": [
        "int(0x7c23ae06e0b0)"
      ],
      "metadata": {
        "colab": {
          "base_uri": "https://localhost:8080/"
        },
        "id": "u2SXJh0G65mZ",
        "outputId": "000ba465-c202-4f87-8504-e1c5df55d720"
      },
      "execution_count": null,
      "outputs": [
        {
          "output_type": "execute_result",
          "data": {
            "text/plain": [
              "136492685385904"
            ]
          },
          "metadata": {},
          "execution_count": 11
        }
      ]
    },
    {
      "cell_type": "code",
      "source": [
        "class LinkedList():\n",
        "\n",
        "  def __init__(self):\n",
        "\n",
        "    # Empty linked list\n",
        "    self.head = None\n",
        "    # No of nodes in ll\n",
        "    self.n = 0\n",
        "\n",
        "  def __len__(self):\n",
        "    return self.n\n",
        "\n",
        "  def insert_head(self,value):\n",
        "\n",
        "    # creating new node\n",
        "    new_node = Node(value)\n",
        "\n",
        "    # create connection\n",
        "    new_node.next = self.head\n",
        "\n",
        "    # reassign head\n",
        "    self.head = new_node\n",
        "\n",
        "    self.n += 1\n",
        "\n",
        "  def __str__(self):\n",
        "\n",
        "    curr = self.head\n",
        "\n",
        "    result = ''\n",
        "    while curr != None:\n",
        "      result += str(curr.data) + '->'\n",
        "      curr = curr.next\n",
        "\n",
        "    return result[:-2]\n",
        "\n",
        "  def append(self,value):\n",
        "\n",
        "    new_node = Node(value)\n",
        "\n",
        "    if self.head == None:\n",
        "      self.head = new_node\n",
        "      self.n += 1\n",
        "      return\n",
        "\n",
        "    curr = self.head\n",
        "    while curr.next != None:\n",
        "      curr = curr.next\n",
        "\n",
        "    curr.next = new_node\n",
        "\n",
        "    self.n += 1\n",
        "\n",
        "  def insert_after(self,after,value):\n",
        "\n",
        "    new_node = Node(value)\n",
        "\n",
        "    curr = self.head\n",
        "    while curr != None:\n",
        "      if curr.data == after:\n",
        "        break\n",
        "      curr = curr.next\n",
        "\n",
        "    if curr != None:\n",
        "      new_node.next = curr.next\n",
        "      curr.next = new_node\n",
        "      self.n += 1\n",
        "    else:\n",
        "      return 'Item Not Found'\n",
        "\n",
        "  def clear(self):\n",
        "    self.head = None\n",
        "    self.n = 0\n",
        "\n",
        "  def delete_head(self):\n",
        "    self.head = self.head.next\n",
        "    self.n -= 1\n",
        "\n",
        "  def pop(self):\n",
        "\n",
        "    if self.head == None:\n",
        "      return 'Empty Linked list'\n",
        "\n",
        "    curr = self.head\n",
        "    if curr.next == None:\n",
        "      self.n -= 1\n",
        "      return self.delete_head()\n",
        "\n",
        "    while curr.next.next != None:\n",
        "      curr = curr.next\n",
        "\n",
        "    curr.next = None\n",
        "    self.n -= 1\n",
        "\n",
        "  def remove(self,value):\n",
        "    if self.head == None:\n",
        "      return 'Empty LL'\n",
        "\n",
        "    if self.head.data == value:\n",
        "      self.n -= 1\n",
        "      return self.delete_head()\n",
        "\n",
        "    curr = self.head\n",
        "    while curr.next != None:\n",
        "      if curr.next.data == value:\n",
        "        break\n",
        "      curr = curr.next\n",
        "\n",
        "    if curr.next == None:\n",
        "      return 'Not Found'\n",
        "    curr.next = curr.next.next\n",
        "    self.n -= 1\n",
        "\n",
        "  def search(self, item):\n",
        "    curr = self.head\n",
        "    pos = 0\n",
        "    while curr != None:\n",
        "      if curr.data == item:\n",
        "        return pos\n",
        "      pos += 1\n",
        "      curr = curr.next\n",
        "    return 'Not Found'\n",
        "\n",
        "  def __getitem__(self,index):\n",
        "    curr = self.head\n",
        "    pos = 0\n",
        "    while curr != None:\n",
        "      if pos == index:\n",
        "        return curr.data\n",
        "      pos += 1\n",
        "      curr = curr.next\n",
        "    return 'Not Found'\n",
        "\n",
        "  def __delitem__(self, index):\n",
        "    if self.head is None:\n",
        "        return \"Empty Linked List\"\n",
        "\n",
        "    if index < 0 or index >= self.n:  # Check for valid index\n",
        "        return \"Index out of range\"\n",
        "\n",
        "    # Deleting the head node\n",
        "    if index == 0:\n",
        "        self.head = self.head.next\n",
        "        self.n -= 1  # Decrement size\n",
        "        return\n",
        "\n",
        "    # Traverse to find the node at the given index\n",
        "    curr = self.head\n",
        "    prev = None\n",
        "    pos = 0\n",
        "\n",
        "    while pos != index:\n",
        "        prev = curr\n",
        "        curr = curr.next\n",
        "        pos += 1\n",
        "\n",
        "    # Unlink the node\n",
        "    prev.next = curr.next\n",
        "    self.n -= 1  # Decrement size\n",
        "\n",
        "  def traverse(self):\n",
        "    curr = self.head\n",
        "    res = ''\n",
        "    while curr != None:\n",
        "      res += str(curr.data) + ' '\n",
        "      curr = curr.next\n",
        "    print(res)\n",
        "\n",
        "  # 1. Write a python program to find the maximum value in a linked list and replace it with a given value.\n",
        "  #Assume that the linked list is populated with whole numbers and there is only one maximum value in the linkedlist\n",
        "  def replace_max(self,value):\n",
        "\n",
        "    temp = self.head\n",
        "    max_node = temp\n",
        "\n",
        "    while temp != None:\n",
        "      if temp.data > max_node.data:\n",
        "        max_node = temp\n",
        "      temp = temp.next\n",
        "\n",
        "    max_node.data = value\n",
        "\n",
        "  # 2. Given a linked list containing whole numbers, write a python function which finds and returns the\n",
        "  # sum of all the elements at the odd position in the given linked list.\n",
        "\n",
        "  def sum_odd_nodes(self):\n",
        "\n",
        "    temp = self.head\n",
        "    result = 0\n",
        "    counter = 0\n",
        "    while temp != None:\n",
        "      if counter % 2 != 0:\n",
        "        result += temp.data\n",
        "      counter += 1\n",
        "      temp = temp.next\n",
        "    print(result)\n",
        "\n",
        "  # 3. Write a python program to reverse a linked list containing integer data.\n",
        "\n",
        "#for eg- ll= 2,3,4\n",
        "# curr_node=2\n",
        "# while\n",
        "# next_node=3\n",
        "# curr_node.next=none\n",
        "# prev_node=2\n",
        "# curr_node=3\n",
        "# -------------------\n",
        "# next_node=4\n",
        "# curr_node.next=2\n",
        "# prev_node=3\n",
        "# curr_node=4\n",
        "# -------------------\n",
        "\n",
        "  def reverse_ll(self):\n",
        "\n",
        "    prev_node = None\n",
        "    curr_node = self.head\n",
        "\n",
        "    while curr_node != None:\n",
        "      next_node = curr_node.next\n",
        "      curr_node.next = prev_node\n",
        "      prev_node = curr_node\n",
        "      curr_node = next_node\n",
        "\n",
        "    self.head = prev_node\n",
        "\n",
        "  # 4. Given a linked list of characters. Write a python function to return a new string that is created by\n",
        "  # appending all the characters given in the linked list as per the rules given below.\n",
        "\n",
        "  # Rules ->\n",
        "  # Replace '*' or '/' by a single space\n",
        "  # In case of two consecutive occurrences of '*' or '/, replace those two occurrences by a single space and\n",
        "  # convert the next character to upper case\n",
        "\n",
        "  # Assume that ->\n",
        "  # There will not be more than two consecutive occurrences of '*' or '/'\n",
        "  # The linked list will always end with an alphabet\n",
        "\n",
        "  # Sample Input\n",
        "  # A,n, *. /,a,p.p,l,ě,*,a,/,day .* ,*,k,e,e,p,s,/ .* ,a,/./.d,o,c,t,o,r,*,A,w,a,y\n",
        "\n",
        "  # Expected Output\n",
        "  # An Apple a day Keeps A Doctor Away\n",
        "\n",
        "\n",
        "  def change_sent(self):\n",
        "    temp = self.head\n",
        "    while temp != None:\n",
        "      if temp.data == '*' or temp.data == '/':\n",
        "        temp.data = ' '\n",
        "        if temp.next.data == '*' or temp.next.data == '/':\n",
        "          temp.next.next.data = temp.next.next.data.upper()\n",
        "          temp.next = temp.next.next\n",
        "          temp.data = ' '\n",
        "\n",
        "      temp = temp.next\n",
        "\n",
        "  # 5. Write a python program to remove all duplicate elements from a sorted linked list containing integer data.\n",
        "  # Example:\n",
        "  # Input LinkedList: 10 10 20 20 30 30 30 40 50\n",
        "  # Output LinkedList: 10 20 30 40 50\n",
        "\n",
        "  def remove_duplicates(self):\n",
        "    curr = self.head\n",
        "    while curr and curr.next:\n",
        "      if curr.data == curr.next.data:\n",
        "          # Skip the duplicate node\n",
        "          curr.next = curr.next.next\n",
        "      else:\n",
        "          # Move to the next node\n",
        "          curr = curr.next\n",
        ""
      ],
      "metadata": {
        "id": "PLmJL9_9xrq_"
      },
      "execution_count": 47,
      "outputs": []
    },
    {
      "cell_type": "code",
      "source": [
        "l = LinkedList()"
      ],
      "metadata": {
        "id": "DhtCC9vZyOmu"
      },
      "execution_count": 54,
      "outputs": []
    },
    {
      "cell_type": "code",
      "source": [
        "len(l)"
      ],
      "metadata": {
        "colab": {
          "base_uri": "https://localhost:8080/"
        },
        "id": "eYcbwZwtySYC",
        "outputId": "c969c4e9-c2cd-43f7-e52a-25995ff23f51"
      },
      "execution_count": 26,
      "outputs": [
        {
          "output_type": "execute_result",
          "data": {
            "text/plain": [
              "0"
            ]
          },
          "metadata": {},
          "execution_count": 26
        }
      ]
    },
    {
      "cell_type": "code",
      "source": [
        "# l.insert_head(1)\n",
        "l.insert_head(2)\n",
        "l.insert_head(3)\n",
        "l.insert_head(4)\n",
        "l.insert_head(5)\n",
        "\n",
        "\n",
        "# l.append(1)\n",
        "# l.append(2)\n",
        "# l.append(3)\n",
        "# l.append(4)\n",
        "# l.append(5)\n",
        "# l.delete_head()\n",
        "# l.insert_head(4)\n"
      ],
      "metadata": {
        "id": "ik2l_F2PyT_F"
      },
      "execution_count": null,
      "outputs": []
    },
    {
      "cell_type": "code",
      "source": [
        "print(l)"
      ],
      "metadata": {
        "colab": {
          "base_uri": "https://localhost:8080/"
        },
        "id": "wys4qZXqAYJ4",
        "outputId": "1fdcb9ce-ccf4-4a4a-dd74-b1c0188f817d"
      },
      "execution_count": null,
      "outputs": [
        {
          "output_type": "stream",
          "name": "stdout",
          "text": [
            "5->4->3->2\n"
          ]
        }
      ]
    },
    {
      "cell_type": "code",
      "source": [
        "l.reverse_ll()"
      ],
      "metadata": {
        "id": "LA877rcPAlB2"
      },
      "execution_count": null,
      "outputs": []
    },
    {
      "cell_type": "code",
      "source": [
        "print(l)"
      ],
      "metadata": {
        "id": "s-v2yjqVBrlj",
        "colab": {
          "base_uri": "https://localhost:8080/"
        },
        "outputId": "16278cb1-5e6d-4b47-e5c3-502d7b67921f"
      },
      "execution_count": null,
      "outputs": [
        {
          "output_type": "stream",
          "name": "stdout",
          "text": [
            "2->3->4->5\n"
          ]
        }
      ]
    },
    {
      "cell_type": "markdown",
      "source": [
        "MCQ"
      ],
      "metadata": {
        "id": "pzU4v6YRanz6"
      }
    },
    {
      "cell_type": "code",
      "source": [
        "# 3. What is the output of following function when head node of following linked list is passed as input?\n",
        "#1->2->3->4->5\n",
        "\n",
        "def fun(head):\n",
        "  if(head == None):\n",
        "    return\n",
        "  if head.next.next != None:\n",
        "    print(head.data,\" \", end=\"\")\n",
        "    fun(head.next)\n",
        "  print(head.data,\" \",end=\"\")\n",
        "\n",
        "# 1234321"
      ],
      "metadata": {
        "id": "n0t8mNKuAvkl"
      },
      "execution_count": null,
      "outputs": []
    },
    {
      "cell_type": "code",
      "source": [
        "#4\n",
        "l.append(\"T\")\n",
        "l.append(\"H\")\n",
        "l.append(\"E\")\n",
        "l.append(\"/\")\n",
        "l.append(\"*\")\n",
        "l.append(\"s\")\n",
        "l.append(\"k\")\n",
        "l.append(\"y\")\n",
        "l.append(\"*\")\n",
        "l.append(\"i\")\n",
        "l.append(\"s\")\n",
        "l.append(\"/\")\n",
        "l.append(\"/\")\n",
        "l.append(\"b\")\n",
        "l.append(\"l\")\n",
        "l.append(\"u\")\n",
        "l.append(\"e\")"
      ],
      "metadata": {
        "id": "xbW4qej7GV71"
      },
      "execution_count": 37,
      "outputs": []
    },
    {
      "cell_type": "code",
      "source": [
        "l.traverse()"
      ],
      "metadata": {
        "colab": {
          "base_uri": "https://localhost:8080/"
        },
        "id": "eK1FY6KnGxdO",
        "outputId": "477e0cec-9010-4ba2-d9a3-9490332e7466"
      },
      "execution_count": 38,
      "outputs": [
        {
          "output_type": "stream",
          "name": "stdout",
          "text": [
            "T H E / * s k y * i s / / b l u e \n"
          ]
        }
      ]
    },
    {
      "cell_type": "code",
      "source": [
        "l.change_sent()"
      ],
      "metadata": {
        "id": "24_EcuvOG-AH"
      },
      "execution_count": 39,
      "outputs": []
    },
    {
      "cell_type": "code",
      "source": [
        "l.traverse()"
      ],
      "metadata": {
        "colab": {
          "base_uri": "https://localhost:8080/"
        },
        "id": "3U6WhJSbIdDv",
        "outputId": "d3b9a934-e70e-4a9a-d34d-478822e1d980"
      },
      "execution_count": 40,
      "outputs": [
        {
          "output_type": "stream",
          "name": "stdout",
          "text": [
            "T H E   S k y   i s   B l u e \n"
          ]
        }
      ]
    },
    {
      "cell_type": "code",
      "source": [
        "#5\n",
        "for value in [10, 10, 20, 20, 30, 30, 30, 40, 50]:\n",
        "  l.append(value)"
      ],
      "metadata": {
        "id": "5od_0eT6Ied0"
      },
      "execution_count": 55,
      "outputs": []
    },
    {
      "cell_type": "code",
      "source": [
        "l.traverse()"
      ],
      "metadata": {
        "colab": {
          "base_uri": "https://localhost:8080/"
        },
        "id": "-biyik06KVQr",
        "outputId": "b2e1c4f6-5fb5-4cb2-8e72-6cdf9a016c6c"
      },
      "execution_count": 56,
      "outputs": [
        {
          "output_type": "stream",
          "name": "stdout",
          "text": [
            "10 20 50 100 10 20 20 30 30 30 40 50 \n"
          ]
        }
      ]
    },
    {
      "cell_type": "code",
      "source": [
        "l.remove_duplicates()"
      ],
      "metadata": {
        "id": "ZP9ZtD5JKbFS"
      },
      "execution_count": 57,
      "outputs": []
    },
    {
      "cell_type": "code",
      "source": [
        "l.traverse()"
      ],
      "metadata": {
        "colab": {
          "base_uri": "https://localhost:8080/"
        },
        "id": "6_zMZOtjKdbb",
        "outputId": "2c7c49aa-4569-45ed-cb2c-dc768a41fe5e"
      },
      "execution_count": 58,
      "outputs": [
        {
          "output_type": "stream",
          "name": "stdout",
          "text": [
            "10 20 50 100 10 20 30 40 50 \n"
          ]
        }
      ]
    },
    {
      "cell_type": "code",
      "source": [],
      "metadata": {
        "id": "Ikwbs9dFKn9P"
      },
      "execution_count": null,
      "outputs": []
    }
  ]
}