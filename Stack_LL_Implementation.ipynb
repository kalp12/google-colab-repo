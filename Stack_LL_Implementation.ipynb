{
  "nbformat": 4,
  "nbformat_minor": 0,
  "metadata": {
    "colab": {
      "provenance": [],
      "authorship_tag": "ABX9TyON5pYPToBVo233vJgFKCaa",
      "include_colab_link": true
    },
    "kernelspec": {
      "name": "python3",
      "display_name": "Python 3"
    },
    "language_info": {
      "name": "python"
    }
  },
  "cells": [
    {
      "cell_type": "markdown",
      "metadata": {
        "id": "view-in-github",
        "colab_type": "text"
      },
      "source": [
        "<a href=\"https://colab.research.google.com/github/kalp12/google-colab-repo/blob/main/Stack_LL_Implementation.ipynb\" target=\"_parent\"><img src=\"https://colab.research.google.com/assets/colab-badge.svg\" alt=\"Open In Colab\"/></a>"
      ]
    },
    {
      "cell_type": "code",
      "execution_count": 3,
      "metadata": {
        "id": "ZYzRy11nLmYc"
      },
      "outputs": [],
      "source": [
        "class Node():\n",
        "\n",
        "  def __init__(self,value):\n",
        "\n",
        "    self.data = value\n",
        "    self.next = None"
      ]
    },
    {
      "cell_type": "code",
      "source": [
        "class Stack():\n",
        "\n",
        "  def __init__(self):\n",
        "    self.top = None\n",
        "\n",
        "  def is_empty(self):\n",
        "    return self.top == None\n",
        "\n",
        "  def peek(self):\n",
        "    if not self.is_empty():\n",
        "      return self.top.data\n",
        "    else:\n",
        "      return \"Stack Empty\"\n",
        "\n",
        "  def push(self,value):\n",
        "    new_node = Node(value)\n",
        "    new_node.next = self.top\n",
        "    self.top = new_node\n",
        "\n",
        "  def pop(self):\n",
        "    if self.is_empty():\n",
        "      return \"Stack Empty\"\n",
        "    else:\n",
        "      temp = self.top\n",
        "      self.top = self.top.next\n",
        "      temp.next = None\n",
        "      return temp.data\n",
        "\n",
        "  def traverse(self):\n",
        "    temp = self.top\n",
        "    while temp != None:\n",
        "      print(temp.data)\n",
        "      temp = temp.next\n",
        "\n",
        "  def size(self):\n",
        "    temp = self.top\n",
        "    count = 0\n",
        "    while temp != None:\n",
        "      count += 1\n",
        "      temp = temp.next\n",
        "    return count"
      ],
      "metadata": {
        "id": "VXCnONk6-05J"
      },
      "execution_count": 4,
      "outputs": []
    },
    {
      "cell_type": "code",
      "source": [
        "s=Stack()"
      ],
      "metadata": {
        "id": "-cCerR8D_VZ4"
      },
      "execution_count": 35,
      "outputs": []
    },
    {
      "cell_type": "code",
      "source": [
        "s.is_empty()"
      ],
      "metadata": {
        "colab": {
          "base_uri": "https://localhost:8080/"
        },
        "id": "BT8hWsFD_yjp",
        "outputId": "874eca52-cabd-4f40-b6c8-6ce3bccb45f1"
      },
      "execution_count": 36,
      "outputs": [
        {
          "output_type": "execute_result",
          "data": {
            "text/plain": [
              "True"
            ]
          },
          "metadata": {},
          "execution_count": 36
        }
      ]
    },
    {
      "cell_type": "code",
      "source": [
        "s.push(2)"
      ],
      "metadata": {
        "id": "lTG8rfFE_zuq"
      },
      "execution_count": 37,
      "outputs": []
    },
    {
      "cell_type": "code",
      "source": [
        "s.traverse()"
      ],
      "metadata": {
        "colab": {
          "base_uri": "https://localhost:8080/"
        },
        "id": "nxm_LF9y_2Ni",
        "outputId": "3fd2ab57-75a6-426d-e6e1-03c3de82195d"
      },
      "execution_count": 7,
      "outputs": [
        {
          "output_type": "stream",
          "name": "stdout",
          "text": [
            "2\n"
          ]
        }
      ]
    },
    {
      "cell_type": "code",
      "source": [
        "s.push(3)\n",
        "s.push(4)\n",
        "s.push(5)\n"
      ],
      "metadata": {
        "id": "ISdo0OJV_4AK"
      },
      "execution_count": 38,
      "outputs": []
    },
    {
      "cell_type": "code",
      "source": [
        "s.traverse()"
      ],
      "metadata": {
        "colab": {
          "base_uri": "https://localhost:8080/"
        },
        "id": "2tf7_aT-_8ZQ",
        "outputId": "55580759-9b62-467c-a41f-294a37bbb0fb"
      },
      "execution_count": 39,
      "outputs": [
        {
          "output_type": "stream",
          "name": "stdout",
          "text": [
            "5\n",
            "4\n",
            "3\n",
            "2\n"
          ]
        }
      ]
    },
    {
      "cell_type": "code",
      "source": [
        "s.peek()"
      ],
      "metadata": {
        "colab": {
          "base_uri": "https://localhost:8080/"
        },
        "id": "_kp1ZFk9_9-3",
        "outputId": "190e008b-0b62-4879-e6cb-0f320302efcf"
      },
      "execution_count": 40,
      "outputs": [
        {
          "output_type": "execute_result",
          "data": {
            "text/plain": [
              "5"
            ]
          },
          "metadata": {},
          "execution_count": 40
        }
      ]
    },
    {
      "cell_type": "code",
      "source": [
        "s.pop()"
      ],
      "metadata": {
        "colab": {
          "base_uri": "https://localhost:8080/",
          "height": 36
        },
        "id": "Xlr2HzQRAcoU",
        "outputId": "5e76fd81-c0a3-4d3e-a2fe-2b78369e5412"
      },
      "execution_count": 32,
      "outputs": [
        {
          "output_type": "execute_result",
          "data": {
            "text/plain": [
              "'Stack Empty'"
            ],
            "application/vnd.google.colaboratory.intrinsic+json": {
              "type": "string"
            }
          },
          "metadata": {},
          "execution_count": 32
        }
      ]
    },
    {
      "cell_type": "code",
      "source": [
        "s.size()"
      ],
      "metadata": {
        "colab": {
          "base_uri": "https://localhost:8080/"
        },
        "id": "MRbDEo3GA0tH",
        "outputId": "d26007d4-3cb4-451f-8716-c7957ef04939"
      },
      "execution_count": 41,
      "outputs": [
        {
          "output_type": "execute_result",
          "data": {
            "text/plain": [
              "4"
            ]
          },
          "metadata": {},
          "execution_count": 41
        }
      ]
    },
    {
      "cell_type": "code",
      "source": [
        "def reverse_string(text):\n",
        "  s = Stack()\n",
        "\n",
        "  for char in text:\n",
        "    s.push(char)\n",
        "\n",
        "  reverse_text = \"\"\n",
        "  while not s.is_empty():\n",
        "    reverse_text += s.pop()\n",
        "\n",
        "  print(reverse_text)\n",
        "  # return reverse_text"
      ],
      "metadata": {
        "id": "ro7xmqS7BNNt"
      },
      "execution_count": 8,
      "outputs": []
    },
    {
      "cell_type": "code",
      "source": [
        "reverse_string('Hello')"
      ],
      "metadata": {
        "colab": {
          "base_uri": "https://localhost:8080/"
        },
        "id": "PrTm0sjhc4Cu",
        "outputId": "20005871-d34c-4208-85dd-fa5dd66c1556"
      },
      "execution_count": 9,
      "outputs": [
        {
          "output_type": "stream",
          "name": "stdout",
          "text": [
            "olleH\n"
          ]
        }
      ]
    },
    {
      "cell_type": "code",
      "source": [
        "def text_editor(text, pattern):\n",
        "\n",
        "  u = Stack()\n",
        "  r = Stack()\n",
        "\n",
        "  for i in text:\n",
        "    u.push(i)\n",
        "\n",
        "  for i in pattern:\n",
        "    if i == 'u':\n",
        "      data = u.pop()\n",
        "      r.push(data)\n",
        "    else:\n",
        "      data = r.pop()\n",
        "      u.push(data)\n",
        "\n",
        "  result = \"\"\n",
        "  while not u.is_empty():\n",
        "    result = u.pop() + result\n",
        "\n",
        "  print(result)\n",
        "  # return result"
      ],
      "metadata": {
        "id": "A1lY1HWlc-QG"
      },
      "execution_count": 13,
      "outputs": []
    },
    {
      "cell_type": "code",
      "source": [
        "text_editor('abcde','uuuur')"
      ],
      "metadata": {
        "colab": {
          "base_uri": "https://localhost:8080/"
        },
        "id": "BOcZ6mB_eDKG",
        "outputId": "0dff999e-6421-4d34-f8fe-d31646ee8cd8"
      },
      "execution_count": 14,
      "outputs": [
        {
          "output_type": "stream",
          "name": "stdout",
          "text": [
            "ab\n"
          ]
        }
      ]
    },
    {
      "cell_type": "code",
      "source": [
        "text_editor('Kolkata','ruurrururu')"
      ],
      "metadata": {
        "colab": {
          "base_uri": "https://localhost:8080/"
        },
        "id": "gocPf2EOeEw7",
        "outputId": "3e40d47f-2f31-49fa-9d41-16b8477e92dc"
      },
      "execution_count": 17,
      "outputs": [
        {
          "output_type": "stream",
          "name": "stdout",
          "text": [
            "Kolkata\n"
          ]
        }
      ]
    },
    {
      "cell_type": "code",
      "source": [
        "L = [\n",
        "    [0,0,1,1],\n",
        "    [0,0,1,0],\n",
        "    [0,0,0,0],\n",
        "    [0,0,1,0]\n",
        "]"
      ],
      "metadata": {
        "id": "jVFFStB5eOGN"
      },
      "execution_count": 18,
      "outputs": []
    },
    {
      "cell_type": "code",
      "source": [
        "def find_the_celeb(L):\n",
        "  s = Stack()\n",
        "\n",
        "  for i in range(len(L)):\n",
        "    # print(i)\n",
        "    s.push(i)\n",
        "\n",
        "  # print(s.traverse())\n",
        "  while s.size() >= 2:\n",
        "    a = s.pop()\n",
        "    b = s.pop()\n",
        "    print(f\"Value of a is {a} and b is {b}\")\n",
        "    print(L[a][b])\n",
        "    if L[a][b] == 0:\n",
        "      #b is not celebrity\n",
        "      s.push(a)\n",
        "    else:\n",
        "      #a is not celebrity\n",
        "      s.push(b)\n",
        "\n",
        "  celeb = s.pop()\n",
        "\n",
        "  for i in range(len(L)):\n",
        "    if i != celeb:\n",
        "      if L[i][celeb] == 0 or L[celeb][i] == 1:\n",
        "        print(\"No one is the celebrity\")\n",
        "        return\n",
        "\n",
        "  print(f\"The celebrity is {celeb}\")\n",
        "  # return celeb"
      ],
      "metadata": {
        "id": "DPQdpnEJezmq"
      },
      "execution_count": 39,
      "outputs": []
    },
    {
      "cell_type": "code",
      "source": [
        "find_the_celeb(L)"
      ],
      "metadata": {
        "colab": {
          "base_uri": "https://localhost:8080/"
        },
        "id": "0zi3reuWfMqj",
        "outputId": "15d5d357-c52e-4e73-e60a-f8fee86c1b50"
      },
      "execution_count": 40,
      "outputs": [
        {
          "output_type": "stream",
          "name": "stdout",
          "text": [
            "Value of a is 3 and b is 2\n",
            "1\n",
            "Value of a is 2 and b is 1\n",
            "0\n",
            "Value of a is 2 and b is 0\n",
            "0\n",
            "The celebrity is 2\n"
          ]
        }
      ]
    },
    {
      "cell_type": "code",
      "source": [
        "def is_balanced(string):\n",
        "    stack = Stack()\n",
        "    matching_brackets = {')': '(', '}': '{', ']': '['}\n",
        "\n",
        "    for char in string:\n",
        "        if char in \"({[\":\n",
        "            stack.push(char)  # Push opening brackets\n",
        "        elif char in \")}]\":\n",
        "            if stack.is_empty():\n",
        "                return False  # No opening bracket for this closing bracket\n",
        "            if stack.pop() != matching_brackets[char]:\n",
        "                return False  # Brackets do not match\n",
        "\n",
        "    # Check if the stack is empty at the end\n",
        "    return stack.is_empty()"
      ],
      "metadata": {
        "id": "k11LJROSfTVl"
      },
      "execution_count": 41,
      "outputs": []
    },
    {
      "cell_type": "code",
      "source": [
        "print(is_balanced(\")((()))\"))  # True\n",
        "print(is_balanced(\"{[()]}\"))  # True\n",
        "print(is_balanced(\"{[{(])}}\"))  # False\n",
        "print(is_balanced(\"({[]}\")) # False"
      ],
      "metadata": {
        "colab": {
          "base_uri": "https://localhost:8080/"
        },
        "id": "7RlpfCGGnbwV",
        "outputId": "89de3657-3d32-462b-d35c-6f0de1256882"
      },
      "execution_count": 44,
      "outputs": [
        {
          "output_type": "stream",
          "name": "stdout",
          "text": [
            "False\n",
            "True\n",
            "False\n",
            "False\n"
          ]
        }
      ]
    },
    {
      "cell_type": "code",
      "source": [],
      "metadata": {
        "id": "gr7n9vX-nfd7"
      },
      "execution_count": null,
      "outputs": []
    }
  ]
}