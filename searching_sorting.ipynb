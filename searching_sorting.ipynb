{
  "nbformat": 4,
  "nbformat_minor": 0,
  "metadata": {
    "colab": {
      "provenance": [],
      "include_colab_link": true
    },
    "kernelspec": {
      "name": "python3",
      "display_name": "Python 3"
    },
    "language_info": {
      "name": "python"
    }
  },
  "cells": [
    {
      "cell_type": "markdown",
      "metadata": {
        "id": "view-in-github",
        "colab_type": "text"
      },
      "source": [
        "<a href=\"https://colab.research.google.com/github/kalp12/google-colab-repo/blob/main/searching_sorting.ipynb\" target=\"_parent\"><img src=\"https://colab.research.google.com/assets/colab-badge.svg\" alt=\"Open In Colab\"/></a>"
      ]
    },
    {
      "cell_type": "code",
      "execution_count": null,
      "metadata": {
        "id": "XUjGcA_Dd4uu"
      },
      "outputs": [],
      "source": [
        "# Linear Searching\n",
        "# Binary\n",
        "\n",
        "# Sleep Sort\n",
        "# Monkey Sort\n",
        "# Bubble Sort\n",
        "# Selection\n",
        "# Merge Sort\n",
        "# Quick Sort\n",
        "# Insertion Sort"
      ]
    },
    {
      "cell_type": "markdown",
      "source": [
        "Linear Search"
      ],
      "metadata": {
        "id": "wGkzMraaeRA-"
      }
    },
    {
      "cell_type": "code",
      "source": [
        "def linear_search(arr,item):\n",
        "  for i in range(len(arr)):\n",
        "    if arr[i] == item:\n",
        "      return i\n",
        "  return -1"
      ],
      "metadata": {
        "id": "cl4lmq83elZD"
      },
      "execution_count": null,
      "outputs": []
    },
    {
      "cell_type": "code",
      "source": [
        "arr = [12,34,56,1,67,100,47,99]\n",
        "linear_search(arr,99)"
      ],
      "metadata": {
        "colab": {
          "base_uri": "https://localhost:8080/"
        },
        "id": "Zfr0lXwceatm",
        "outputId": "941a2cc9-7e66-4199-b9a9-a56565a4847d"
      },
      "execution_count": null,
      "outputs": [
        {
          "output_type": "execute_result",
          "data": {
            "text/plain": [
              "7"
            ]
          },
          "metadata": {},
          "execution_count": 4
        }
      ]
    },
    {
      "cell_type": "markdown",
      "source": [
        "Binary Search"
      ],
      "metadata": {
        "id": "UAJwYhAKfc97"
      }
    },
    {
      "cell_type": "code",
      "source": [
        "#Needs to be sorted array\n",
        "def binary_search(arr,low,high,item):\n",
        "\n",
        "  if low <= high:\n",
        "    mid = (low + high) // 2\n",
        "\n",
        "    if arr[mid] == item:\n",
        "      return mid\n",
        "    elif arr[mid] > item:\n",
        "      return binary_search(arr,low,mid-1,item)\n",
        "    else:\n",
        "      return binary_search(arr,mid + 1, high, item)\n",
        "  else:\n",
        "    return -1"
      ],
      "metadata": {
        "id": "c_rrE3vEfW2H"
      },
      "execution_count": null,
      "outputs": []
    },
    {
      "cell_type": "code",
      "source": [
        "arr = [12,24,35,46,57,68,80,99,100]\n",
        "print(binary_search(arr,0,len(arr)-1,57))"
      ],
      "metadata": {
        "colab": {
          "base_uri": "https://localhost:8080/"
        },
        "id": "RC3gGtbufy58",
        "outputId": "cba8de27-2ded-4de4-c7e1-8bda6864e5ea"
      },
      "execution_count": null,
      "outputs": [
        {
          "output_type": "stream",
          "name": "stdout",
          "text": [
            "4\n"
          ]
        }
      ]
    },
    {
      "cell_type": "code",
      "source": [
        "# Sorting\n",
        "\n",
        "def is_sorted(arr):\n",
        "\n",
        "  sorted = True\n",
        "\n",
        "  for i in range(len(arr) - 1):\n",
        "    if arr[i]>arr[i+1]:\n",
        "      sorted = False\n",
        "\n",
        "  return sorted"
      ],
      "metadata": {
        "id": "XKwQIG6sgW-p"
      },
      "execution_count": null,
      "outputs": []
    },
    {
      "cell_type": "code",
      "source": [
        "arr = [1,2,3,4,8,6]\n",
        "is_sorted(arr)"
      ],
      "metadata": {
        "colab": {
          "base_uri": "https://localhost:8080/"
        },
        "id": "yS1xeHK8iLnd",
        "outputId": "3985395d-1632-47f6-b567-bd13ffd0e4cc"
      },
      "execution_count": null,
      "outputs": [
        {
          "output_type": "execute_result",
          "data": {
            "text/plain": [
              "False"
            ]
          },
          "metadata": {},
          "execution_count": 16
        }
      ]
    },
    {
      "cell_type": "markdown",
      "source": [
        "Monkey Sort"
      ],
      "metadata": {
        "id": "g0A7dfcJqveU"
      }
    },
    {
      "cell_type": "code",
      "source": [
        "import random\n",
        "a=[1,2,3,4]\n",
        "random.shuffle(a)\n",
        "a"
      ],
      "metadata": {
        "colab": {
          "base_uri": "https://localhost:8080/"
        },
        "id": "itqsqOTiiMH4",
        "outputId": "2f2a23f2-5108-4778-9b27-efdc84f72306"
      },
      "execution_count": null,
      "outputs": [
        {
          "output_type": "execute_result",
          "data": {
            "text/plain": [
              "[4, 1, 2, 3]"
            ]
          },
          "metadata": {},
          "execution_count": 17
        }
      ]
    },
    {
      "cell_type": "code",
      "source": [
        "# Time complexity of this is O(infinite)\n",
        "def monkey_sort(arr):\n",
        "\n",
        "  while not is_sorted(arr):\n",
        "    random.shuffle(arr)\n",
        "    print(arr)\n",
        "  print(arr)"
      ],
      "metadata": {
        "id": "sps7Cy_6qxbe"
      },
      "execution_count": null,
      "outputs": []
    },
    {
      "cell_type": "code",
      "source": [
        "a = [12,24,11,56,34,20]\n",
        "monkey_sort(a)"
      ],
      "metadata": {
        "colab": {
          "base_uri": "https://localhost:8080/"
        },
        "id": "DsAPthAzq2dT",
        "outputId": "8f98ac69-c8a1-45a7-ba81-93debc9732af"
      },
      "execution_count": null,
      "outputs": [
        {
          "output_type": "stream",
          "name": "stdout",
          "text": [
            "[11, 34, 56, 20, 12, 24]\n",
            "[11, 20, 56, 24, 34, 12]\n",
            "[20, 11, 12, 56, 34, 24]\n",
            "[11, 20, 12, 24, 56, 34]\n",
            "[24, 34, 56, 11, 12, 20]\n",
            "[24, 34, 20, 11, 12, 56]\n",
            "[20, 12, 56, 34, 24, 11]\n",
            "[12, 20, 34, 56, 24, 11]\n",
            "[34, 24, 12, 20, 56, 11]\n",
            "[20, 24, 11, 34, 12, 56]\n",
            "[20, 12, 34, 11, 56, 24]\n",
            "[12, 11, 56, 20, 24, 34]\n",
            "[20, 11, 24, 12, 34, 56]\n",
            "[20, 24, 12, 56, 11, 34]\n",
            "[20, 12, 34, 56, 24, 11]\n",
            "[24, 34, 56, 11, 12, 20]\n",
            "[11, 12, 20, 24, 34, 56]\n",
            "[11, 12, 20, 24, 34, 56]\n"
          ]
        }
      ]
    },
    {
      "cell_type": "markdown",
      "source": [
        "Sleep sort (T.P.)"
      ],
      "metadata": {
        "id": "wakejiVfrF1p"
      }
    },
    {
      "cell_type": "code",
      "source": [
        "# Time complexity: O(n * max)\n",
        "import time\n",
        "import threading\n",
        "\n",
        "def sleep_sort(numbers):\n",
        "    sorted_list = []\n",
        "\n",
        "    # Function to add a number to the sorted list after a delay\n",
        "    def add_number(number):\n",
        "        time.sleep(number)  # Sleep for 'number' seconds\n",
        "        sorted_list.append(number)  # Add the number to the sorted list after sleeping\n",
        "\n",
        "    # Create threads for each number in the list\n",
        "    threads = [threading.Thread(target=add_number, args=(num,)) for num in numbers]\n",
        "\n",
        "    # Start all the threads\n",
        "    for thread in threads:\n",
        "        thread.start()\n",
        "\n",
        "    # Wait for all threads to complete\n",
        "    for thread in threads:\n",
        "        thread.join()\n",
        "\n",
        "    return sorted_list\n"
      ],
      "metadata": {
        "id": "Yeu9DUMGrAaW"
      },
      "execution_count": null,
      "outputs": []
    },
    {
      "cell_type": "code",
      "source": [
        "numbers = [5, 3, 7, 2, 4, 1, 6]\n",
        "sorted_numbers = sleep_sort(numbers)\n",
        "print(\"Sorted numbers:\", sorted_numbers)"
      ],
      "metadata": {
        "colab": {
          "base_uri": "https://localhost:8080/"
        },
        "id": "OjNs4O-LrMHy",
        "outputId": "deda7ecb-75e9-4ab2-d4f9-d2ea41c8968d"
      },
      "execution_count": null,
      "outputs": [
        {
          "output_type": "stream",
          "name": "stdout",
          "text": [
            "Sorted numbers: [1, 2, 3, 4, 5, 6, 7]\n"
          ]
        }
      ]
    },
    {
      "cell_type": "markdown",
      "source": [
        "Bubble Sort"
      ],
      "metadata": {
        "id": "O-CPcmlBu19-"
      }
    },
    {
      "cell_type": "code",
      "source": [
        "#time complexity o(n^2) and space is constant\n",
        "# It is not adaptive\n",
        "# It is stable\n",
        "def bubble_sort(arr):\n",
        "\n",
        "  for i in range(len(arr) - 1):\n",
        "    for j in range(len(arr) - 1 - i):\n",
        "      if arr[j] > arr[j+1]:\n",
        "        arr[j],arr[j+1] = arr[j+1],arr[j]\n",
        "  return arr"
      ],
      "metadata": {
        "id": "lLGPV_Zju4b7"
      },
      "execution_count": null,
      "outputs": []
    },
    {
      "cell_type": "code",
      "source": [
        "arr = [23,12,34,11,100,56,78]\n",
        "bubble_sort(arr)"
      ],
      "metadata": {
        "colab": {
          "base_uri": "https://localhost:8080/"
        },
        "id": "epgKlkhXu_i4",
        "outputId": "4778aa4e-4f03-44fa-9a7f-c460d8536c2f"
      },
      "execution_count": null,
      "outputs": [
        {
          "output_type": "execute_result",
          "data": {
            "text/plain": [
              "[11, 12, 23, 34, 56, 78, 100]"
            ]
          },
          "metadata": {},
          "execution_count": 29
        }
      ]
    },
    {
      "cell_type": "markdown",
      "source": [
        "Bubble sort (Adaptive sort)"
      ],
      "metadata": {
        "id": "Aqxhqbewt6LU"
      }
    },
    {
      "cell_type": "code",
      "source": [
        "#complexity o(n) adaptive and stable\n",
        "def bubble_sort(arr):\n",
        "\n",
        "  for i in range(len(arr) - 1):\n",
        "    flag = 0\n",
        "    for j in range(len(arr) - 1 - i):\n",
        "      if arr[j] > arr[j+1]:\n",
        "        arr[j],arr[j+1] = arr[j+1],arr[j]\n",
        "        flag =1\n",
        "\n",
        "    if flag == 0:\n",
        "      break\n",
        "\n",
        "  return arr"
      ],
      "metadata": {
        "id": "N4spqZNlrb9-"
      },
      "execution_count": null,
      "outputs": []
    },
    {
      "cell_type": "code",
      "source": [
        "arr = [23,12,34,11,100,56,78]\n",
        "bubble_sort(arr)"
      ],
      "metadata": {
        "colab": {
          "base_uri": "https://localhost:8080/"
        },
        "id": "VMODyKwEt5Le",
        "outputId": "2ddcdc8a-d8b5-412c-fd97-8b2c10231945"
      },
      "execution_count": null,
      "outputs": [
        {
          "output_type": "execute_result",
          "data": {
            "text/plain": [
              "[11, 12, 23, 34, 56, 78, 100]"
            ]
          },
          "metadata": {},
          "execution_count": 27
        }
      ]
    },
    {
      "cell_type": "markdown",
      "source": [
        "Selection Sort"
      ],
      "metadata": {
        "id": "yi4vMOPM9_Fs"
      }
    },
    {
      "cell_type": "code",
      "source": [
        "#Time complexity O(n^2), space is O(1) # Not Adaptive and not stable\n",
        "def selection_sort(arr):\n",
        "  for i in range(len(arr)-1):\n",
        "    min = i\n",
        "    for j in range(i+1,len(arr)):\n",
        "      if arr[j] < arr[min]:\n",
        "        min = j\n",
        "    arr[i], arr[min] = arr[min], arr[i]\n",
        "  return arr"
      ],
      "metadata": {
        "id": "EqTqQTtW-CB1"
      },
      "execution_count": null,
      "outputs": []
    },
    {
      "cell_type": "code",
      "source": [
        "arr = [23,12,34,11,100,56,78]\n",
        "selection_sort(arr)"
      ],
      "metadata": {
        "colab": {
          "base_uri": "https://localhost:8080/"
        },
        "id": "ulhuhuxr-vff",
        "outputId": "dd7630cc-b5c1-418d-81e6-3db379461b1e"
      },
      "execution_count": null,
      "outputs": [
        {
          "output_type": "stream",
          "name": "stdout",
          "text": [
            "[11, 12, 23, 34, 56, 78, 100]\n"
          ]
        }
      ]
    },
    {
      "cell_type": "code",
      "source": [
        "L = []\n",
        "\n",
        "import random\n",
        "\n",
        "for i in range(10000):\n",
        "  L.append(random.randint(1,10000))"
      ],
      "metadata": {
        "id": "vyca8Y1R-0pF"
      },
      "execution_count": null,
      "outputs": []
    },
    {
      "cell_type": "code",
      "source": [
        "len(L)"
      ],
      "metadata": {
        "colab": {
          "base_uri": "https://localhost:8080/"
        },
        "id": "11jJG7h1Avcb",
        "outputId": "628f756f-b599-452c-81f0-43fd900a7b79"
      },
      "execution_count": null,
      "outputs": [
        {
          "output_type": "execute_result",
          "data": {
            "text/plain": [
              "10000"
            ]
          },
          "metadata": {},
          "execution_count": 5
        }
      ]
    },
    {
      "cell_type": "code",
      "source": [
        "L1 = L[:]\n",
        "# cloning"
      ],
      "metadata": {
        "id": "Wn_uhJrAAxyQ"
      },
      "execution_count": null,
      "outputs": []
    },
    {
      "cell_type": "code",
      "source": [
        "import time\n",
        "\n",
        "start = time.time()\n",
        "bubble_sort(L)\n",
        "print(\"Time taken\",time.time() - start,\"secs\")"
      ],
      "metadata": {
        "colab": {
          "base_uri": "https://localhost:8080/"
        },
        "id": "erm8wBpoA0C9",
        "outputId": "a0276cb6-accc-49fe-92a9-36155d1b5db6"
      },
      "execution_count": null,
      "outputs": [
        {
          "output_type": "stream",
          "name": "stdout",
          "text": [
            "Time taken 11.041977405548096 secs\n"
          ]
        }
      ]
    },
    {
      "cell_type": "code",
      "source": [
        "start = time.time()\n",
        "selection_sort(L1)\n",
        "print(\"Time taken\",time.time() - start,\"secs\")"
      ],
      "metadata": {
        "colab": {
          "base_uri": "https://localhost:8080/"
        },
        "id": "DCxJJGIzA2ty",
        "outputId": "c7d68bfd-83be-4afb-9293-30a8a581534a"
      },
      "execution_count": null,
      "outputs": [
        {
          "output_type": "stream",
          "name": "stdout",
          "text": [
            "Time taken 4.298314094543457 secs\n"
          ]
        }
      ]
    },
    {
      "cell_type": "markdown",
      "source": [
        "Merge Sort"
      ],
      "metadata": {
        "id": "hvB7rBEpBk5D"
      }
    },
    {
      "cell_type": "code",
      "source": [
        "# (Method 1) time o(nlogn) space close to O(2n) due to recursion and new array\n",
        "#Not Adaptive and is stable\n",
        "def merge_sorted(arr1,arr2):\n",
        "\n",
        "  i = j = 0\n",
        "\n",
        "  merged = []\n",
        "\n",
        "  while i < len(arr1) and j < len(arr2):\n",
        "\n",
        "    if arr1[i] < arr2[j]:\n",
        "      merged.append(arr1[i])\n",
        "      i+=1\n",
        "    else:\n",
        "      merged.append(arr2[j])\n",
        "      j+=1\n",
        "\n",
        "  while i < len(arr1):\n",
        "    merged.append(arr1[i])\n",
        "    i+=1\n",
        "\n",
        "  while j < len(arr2):\n",
        "    merged.append(arr2[j])\n",
        "    j+=1\n",
        "  return merged\n"
      ],
      "metadata": {
        "id": "_f_7pw-OA5qK"
      },
      "execution_count": null,
      "outputs": []
    },
    {
      "cell_type": "code",
      "source": [
        "def merge_sort(arr):\n",
        "\n",
        "  if len(arr) == 1:\n",
        "    return arr\n",
        "\n",
        "  mid =len(arr)//2\n",
        "\n",
        "  left = arr[:mid]\n",
        "  right = arr[mid:]\n",
        "\n",
        "  left = merge_sort(left)\n",
        "  right = merge_sort(right)\n",
        "\n",
        "  return merge_sorted(left,right)"
      ],
      "metadata": {
        "id": "Qnsx_JFFLEZR"
      },
      "execution_count": null,
      "outputs": []
    },
    {
      "cell_type": "code",
      "source": [
        "arr = [23,12,34,11,100,56,78]\n",
        "merge_sort(arr)"
      ],
      "metadata": {
        "colab": {
          "base_uri": "https://localhost:8080/"
        },
        "id": "vDWON6rgLQFc",
        "outputId": "e05dcdd1-cc08-4d38-8995-76166e24d6e6"
      },
      "execution_count": null,
      "outputs": [
        {
          "output_type": "execute_result",
          "data": {
            "text/plain": [
              "[11, 12, 23, 34, 56, 78, 100]"
            ]
          },
          "metadata": {},
          "execution_count": 17
        }
      ]
    },
    {
      "cell_type": "code",
      "source": [],
      "metadata": {
        "id": "kQBq9pKdYpRR"
      },
      "execution_count": null,
      "outputs": []
    },
    {
      "cell_type": "code",
      "source": [
        "# (Method 2) time o(nlogn) space close to O(n)\n",
        "# Not Adaptive and is stable\n",
        "def merge_sorted(arr1,arr2,arr):\n",
        "\n",
        "  i = j = k = 0\n",
        "\n",
        "  while i < len(arr1) and j < len(arr2):\n",
        "\n",
        "    if arr1[i] < arr2[j]:\n",
        "      arr[k] = arr1[i]\n",
        "      i+=1\n",
        "    else:\n",
        "      arr[k] = arr2[j]\n",
        "      j+=1\n",
        "    k+=1\n",
        "  while i < len(arr1):\n",
        "    arr[k] = arr1[i]\n",
        "    i+=1\n",
        "    k+=1\n",
        "\n",
        "  while j < len(arr2):\n",
        "    arr[k] = arr2[j]\n",
        "    j+=1\n",
        "    k+=1\n",
        "  return\n"
      ],
      "metadata": {
        "id": "M0WN_1naYqB2"
      },
      "execution_count": 18,
      "outputs": []
    },
    {
      "cell_type": "code",
      "source": [
        "def merge_sort(arr):\n",
        "\n",
        "  if len(arr) == 1:\n",
        "    return arr\n",
        "\n",
        "  mid =len(arr)//2\n",
        "\n",
        "  left = arr[:mid]\n",
        "  right = arr[mid:]\n",
        "\n",
        "  merge_sort(left)\n",
        "  merge_sort(right)\n",
        "\n",
        "  merge_sorted(left,right,arr)"
      ],
      "metadata": {
        "id": "yYcnXm7UYtez"
      },
      "execution_count": 16,
      "outputs": []
    },
    {
      "cell_type": "code",
      "source": [
        "arr = [23,12,34,11,100,56,78]\n",
        "merge_sort(arr)\n",
        "print(arr)"
      ],
      "metadata": {
        "colab": {
          "base_uri": "https://localhost:8080/"
        },
        "id": "koKYc6riYZFC",
        "outputId": "f46a9ad7-3181-4e0f-b7a8-771c6586548c"
      },
      "execution_count": 19,
      "outputs": [
        {
          "output_type": "stream",
          "name": "stdout",
          "text": [
            "[11, 12, 23, 34, 56, 78, 100]\n"
          ]
        }
      ]
    },
    {
      "cell_type": "code",
      "source": [
        "# Not in-place version\n",
        "# Time complexity : O(nlogn)\n",
        "# Space Complexity: O(n)\n",
        "def quick_sort(arr):\n",
        "\n",
        "  if len(arr) <= 1:\n",
        "    return arr\n",
        "\n",
        "  pivot = arr.pop()\n",
        "\n",
        "  items_left = []\n",
        "  items_right = []\n",
        "\n",
        "  for item in arr:\n",
        "    if item < pivot:\n",
        "      items_left.append(item)\n",
        "    else:\n",
        "      items_right.append(item)\n",
        "\n",
        "  return quick_sort(items_left) + [pivot] + quick_sort(items_right)"
      ],
      "metadata": {
        "id": "1BVSsPaFZ8_M"
      },
      "execution_count": null,
      "outputs": []
    },
    {
      "cell_type": "code",
      "source": [
        "arr = [2,1,4,6,3,7,5]\n",
        "quick_sort(arr)"
      ],
      "metadata": {
        "colab": {
          "base_uri": "https://localhost:8080/"
        },
        "id": "eVPJLtV8b-dn",
        "outputId": "c46fecfa-b629-4be8-d020-39fc53e47a3b"
      },
      "execution_count": null,
      "outputs": [
        {
          "output_type": "execute_result",
          "data": {
            "text/plain": [
              "[1, 2, 3, 4, 5, 6, 7]"
            ]
          },
          "metadata": {},
          "execution_count": 26
        }
      ]
    },
    {
      "cell_type": "code",
      "source": [
        "# Not in-place version\n",
        "# Time complexity : O(nlogn)\n",
        "# Space Complexity: O(logn)\n",
        "def quick_sort(arr, low, high):\n",
        "    if len(arr) == 1:  # If array has only one element, it's already sorted\n",
        "        return arr\n",
        "\n",
        "    if low < high:  # Ensure there are at least two elements to sort\n",
        "        pi = partition(arr, low, high)  # Partition the array and get the pivot index\n",
        "        quick_sort(arr, low, pi - 1)  # Recursively sort elements before the pivot\n",
        "        quick_sort(arr, pi + 1, high)  # Recursively sort elements after the pivot\n"
      ],
      "metadata": {
        "id": "jwzMdkqecGz5"
      },
      "execution_count": null,
      "outputs": []
    },
    {
      "cell_type": "code",
      "source": [
        "def partition(arr, low, high):\n",
        "    i = low - 1  # Index for the smaller element\n",
        "    pivot = arr[high]  # Choosing the last element as pivot\n",
        "\n",
        "    for j in range(low, high):  # Traverse from low to high-1\n",
        "        if arr[j] <= pivot:  # If current element is less than or equal to pivot\n",
        "            i += 1  # Increment index of smaller element\n",
        "            arr[i], arr[j] = arr[j], arr[i]  # Swap arr[i] and arr[j]\n",
        "\n",
        "    arr[i + 1], arr[high] = arr[high], arr[i + 1]  # Swap the pivot element with the element at i+1\n",
        "    return i + 1  # Return the partition index\n"
      ],
      "metadata": {
        "id": "SsXg1gIGcQ96"
      },
      "execution_count": null,
      "outputs": []
    },
    {
      "cell_type": "code",
      "source": [
        "arr = [10, 7, 8, 9, 1, 5]\n",
        "n = len(arr)\n",
        "quick_sort(arr, 0, n-1)\n",
        "print(arr)"
      ],
      "metadata": {
        "colab": {
          "base_uri": "https://localhost:8080/"
        },
        "id": "5LdYcpd7cTT1",
        "outputId": "a03a8a81-6b01-445e-a5bc-c238dd08580c"
      },
      "execution_count": null,
      "outputs": [
        {
          "output_type": "stream",
          "name": "stdout",
          "text": [
            "[1, 5, 7, 8, 9, 10]\n"
          ]
        }
      ]
    },
    {
      "cell_type": "markdown",
      "source": [
        "Insertion sort"
      ],
      "metadata": {
        "id": "eMCrozg5jGOv"
      }
    },
    {
      "cell_type": "code",
      "source": [
        "# Time O(n^2) and space O(1)\n",
        "def insertion_sort(arr):\n",
        "    for i in range(1, len(arr)):  # Start from the second element\n",
        "        key = arr[i]  # Current element to be placed in sorted part\n",
        "        j = i - 1  # Index of the last element in the sorted part\n",
        "\n",
        "        # Shift elements of the sorted part to the right to make space\n",
        "        while j >= 0 and arr[j] > key:\n",
        "            arr[j + 1] = arr[j]\n",
        "            j -= 1\n",
        "\n",
        "        # Insert the key in the correct position\n",
        "        arr[j + 1] = key\n",
        "\n",
        "    return arr"
      ],
      "metadata": {
        "id": "y6kv2nLzjHeE"
      },
      "execution_count": null,
      "outputs": []
    },
    {
      "cell_type": "code",
      "source": [
        "arr = [5, 3, 4, 1, 2]\n",
        "insertion_sort(arr)"
      ],
      "metadata": {
        "colab": {
          "base_uri": "https://localhost:8080/"
        },
        "id": "JrqfJyfEjLWc",
        "outputId": "f0f96f90-8cf3-4878-e9df-74380155309a"
      },
      "execution_count": null,
      "outputs": [
        {
          "output_type": "execute_result",
          "data": {
            "text/plain": [
              "[1, 2, 3, 4, 5]"
            ]
          },
          "metadata": {},
          "execution_count": 35
        }
      ]
    }
  ]
}