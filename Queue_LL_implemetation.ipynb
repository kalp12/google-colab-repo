{
  "nbformat": 4,
  "nbformat_minor": 0,
  "metadata": {
    "colab": {
      "provenance": [],
      "authorship_tag": "ABX9TyPbun265d7gAdM5oOgvr8Kg",
      "include_colab_link": true
    },
    "kernelspec": {
      "name": "python3",
      "display_name": "Python 3"
    },
    "language_info": {
      "name": "python"
    }
  },
  "cells": [
    {
      "cell_type": "markdown",
      "metadata": {
        "id": "view-in-github",
        "colab_type": "text"
      },
      "source": [
        "<a href=\"https://colab.research.google.com/github/kalp12/google-colab-repo/blob/main/Queue_LL_implemetation.ipynb\" target=\"_parent\"><img src=\"https://colab.research.google.com/assets/colab-badge.svg\" alt=\"Open In Colab\"/></a>"
      ]
    },
    {
      "cell_type": "code",
      "execution_count": 1,
      "metadata": {
        "id": "G6yv6RTapiCp"
      },
      "outputs": [],
      "source": [
        "class Node:\n",
        "\n",
        "  def __init__(self,value):\n",
        "\n",
        "    self.data = value\n",
        "    self.next = None"
      ]
    },
    {
      "cell_type": "code",
      "source": [
        "class Queue:\n",
        "\n",
        "  def __init__(self):\n",
        "    self.front = None\n",
        "    self.rear = None\n",
        "\n",
        "  def enqueue(self,value):\n",
        "\n",
        "    new_node = Node(value)\n",
        "\n",
        "    if self.front == None:\n",
        "      self.front = new_node\n",
        "      self.rear = new_node\n",
        "\n",
        "    else:\n",
        "      self.rear.next = new_node\n",
        "      self.rear = new_node\n",
        "\n",
        "  def dequeue(self):\n",
        "\n",
        "    if self.front == None:\n",
        "      print(\"Queue empty\")\n",
        "      return None\n",
        "    else:\n",
        "      dequeued_value = self.front.data  # Save the data to return\n",
        "      self.front = self.front.next      # Move the front pointer\n",
        "      if self.front is None:            # If the queue becomes empty\n",
        "          self.rear = None\n",
        "      return dequeued_value  # Return the dequeued value\n",
        "\n",
        "  def is_empty(self):\n",
        "    return self.front == None\n",
        "\n",
        "  def front_item(self):\n",
        "    if (not self.is_empty()):\n",
        "      return self.front.data\n",
        "    else:\n",
        "      return \"Empty queue\"\n",
        "\n",
        "  def rear_item(self):\n",
        "    if (not self.is_empty()):\n",
        "      return self.rear.data\n",
        "    else:\n",
        "      return \"Empty queue\"\n",
        "\n",
        "\n",
        "  def traverse(self):\n",
        "\n",
        "    temp = self.front\n",
        "\n",
        "    while temp is not None:\n",
        "      print(temp.data,end=' ')\n",
        "      temp = temp.next\n"
      ],
      "metadata": {
        "id": "a7UPsZD9pp_b"
      },
      "execution_count": 29,
      "outputs": []
    },
    {
      "cell_type": "code",
      "source": [
        "q = Queue()"
      ],
      "metadata": {
        "id": "spwj8PTtpshm"
      },
      "execution_count": 12,
      "outputs": []
    },
    {
      "cell_type": "code",
      "source": [
        "q.enqueue(3)\n",
        "q.enqueue(4)\n",
        "q.enqueue(5)\n",
        "q.enqueue(7)"
      ],
      "metadata": {
        "id": "UNDrs_rSpwLE"
      },
      "execution_count": null,
      "outputs": []
    },
    {
      "cell_type": "code",
      "source": [
        "q.traverse()"
      ],
      "metadata": {
        "colab": {
          "base_uri": "https://localhost:8080/"
        },
        "id": "0f3YDybipyQP",
        "outputId": "cd587d10-3d4d-4231-d817-7d3e12b4b39b"
      },
      "execution_count": null,
      "outputs": [
        {
          "output_type": "stream",
          "name": "stdout",
          "text": [
            "3 4 5 7 "
          ]
        }
      ]
    },
    {
      "cell_type": "code",
      "source": [
        "q.dequeue()"
      ],
      "metadata": {
        "id": "mB1LL952p1lD"
      },
      "execution_count": null,
      "outputs": []
    },
    {
      "cell_type": "code",
      "source": [
        "q.traverse()"
      ],
      "metadata": {
        "colab": {
          "base_uri": "https://localhost:8080/"
        },
        "id": "GMKCe29Sp4X2",
        "outputId": "2f9d457a-7f2a-4d0b-96c7-2592c40ae151"
      },
      "execution_count": null,
      "outputs": [
        {
          "output_type": "stream",
          "name": "stdout",
          "text": [
            "4 5 7 "
          ]
        }
      ]
    },
    {
      "cell_type": "code",
      "source": [
        "q.enqueue(8)"
      ],
      "metadata": {
        "id": "9DIUBag8p5Tz"
      },
      "execution_count": null,
      "outputs": []
    },
    {
      "cell_type": "code",
      "source": [
        "q.traverse()"
      ],
      "metadata": {
        "colab": {
          "base_uri": "https://localhost:8080/"
        },
        "id": "AkUJXcGUp9jw",
        "outputId": "a785344c-ef70-4573-8c24-a4273402422f"
      },
      "execution_count": null,
      "outputs": [
        {
          "output_type": "stream",
          "name": "stdout",
          "text": [
            "4 5 7 8 "
          ]
        }
      ]
    },
    {
      "cell_type": "code",
      "source": [
        "q.is_empty()"
      ],
      "metadata": {
        "colab": {
          "base_uri": "https://localhost:8080/"
        },
        "id": "S3W0ykzvp-uI",
        "outputId": "e7557dcb-9111-4581-b2d7-0a6f225241dc"
      },
      "execution_count": null,
      "outputs": [
        {
          "output_type": "execute_result",
          "data": {
            "text/plain": [
              "False"
            ]
          },
          "metadata": {},
          "execution_count": 10
        }
      ]
    },
    {
      "cell_type": "code",
      "source": [
        "q.front_item()"
      ],
      "metadata": {
        "colab": {
          "base_uri": "https://localhost:8080/"
        },
        "id": "aZuH3_BvqEU3",
        "outputId": "ba19626e-368f-4ec8-ef34-74b7309712b0"
      },
      "execution_count": null,
      "outputs": [
        {
          "output_type": "execute_result",
          "data": {
            "text/plain": [
              "4"
            ]
          },
          "metadata": {},
          "execution_count": 11
        }
      ]
    },
    {
      "cell_type": "code",
      "source": [
        "q.rear_item()"
      ],
      "metadata": {
        "colab": {
          "base_uri": "https://localhost:8080/"
        },
        "id": "6kpCb4uAqG2e",
        "outputId": "68a75900-cabb-4042-cb09-6ed93f8e142c"
      },
      "execution_count": null,
      "outputs": [
        {
          "output_type": "execute_result",
          "data": {
            "text/plain": [
              "8"
            ]
          },
          "metadata": {},
          "execution_count": 12
        }
      ]
    },
    {
      "cell_type": "code",
      "source": [
        "class QueueUsingTwoStacks:\n",
        "    def __init__(self):\n",
        "        self.stack1 = []  # Stack to handle enqueue operations\n",
        "        self.stack2 = []  # Stack to handle dequeue operations\n",
        "\n",
        "    def enqueue(self, item):\n",
        "        # Add the item to stack1 (the \"enqueue\" stack)\n",
        "        self.stack1.append(item)\n",
        "\n",
        "    def dequeue(self):\n",
        "        if not self.stack2:  # If stack2 is empty, transfer elements from stack1\n",
        "            if not self.stack1:  # If both stacks are empty, the queue is empty\n",
        "                return \"Queue is empty\"\n",
        "            while self.stack1:\n",
        "                self.stack2.append(self.stack1.pop())  # Reverse the order of elements\n",
        "        return self.stack2.pop()  # Pop from stack2 to simulate dequeue\n",
        "\n",
        "    def peek(self):\n",
        "        if self.stack2:  # If stack2 is not empty, peek at the top of stack2\n",
        "            return self.stack2[-1]\n",
        "        if not self.stack1:  # If both stacks are empty, the queue is empty\n",
        "            return \"Queue is empty\"\n",
        "        # If stack2 is empty, transfer elements from stack1 to stack2\n",
        "        while self.stack1:\n",
        "            self.stack2.append(self.stack1.pop())\n",
        "        return self.stack2[-1]\n",
        "\n",
        "    def is_empty(self):\n",
        "        return len(self.stack1) == 0 and len(self.stack2) == 0\n"
      ],
      "metadata": {
        "id": "Q2NEMtodqHuK"
      },
      "execution_count": null,
      "outputs": []
    },
    {
      "cell_type": "code",
      "source": [
        "queue = QueueUsingTwoStacks()"
      ],
      "metadata": {
        "id": "Yu-wwaaKrnEZ"
      },
      "execution_count": null,
      "outputs": []
    },
    {
      "cell_type": "code",
      "source": [
        "queue.enqueue(10)\n",
        "queue.enqueue(20)\n",
        "queue.enqueue(30)"
      ],
      "metadata": {
        "id": "bLdgpPMirpEo"
      },
      "execution_count": null,
      "outputs": []
    },
    {
      "cell_type": "code",
      "source": [
        "print(queue.dequeue())  # Output: 10\n",
        "print(queue.peek())     # Output: 20\n",
        "queue.enqueue(40)\n",
        "print(queue.dequeue())  # Output: 20\n",
        "print(queue.dequeue())  # Output: 30\n",
        "print(queue.peek())     # Output: 40\n",
        "print(queue.is_empty()) # Output: False\n"
      ],
      "metadata": {
        "id": "R_eSR9-KrqqP",
        "outputId": "f8855ede-20b6-4fcc-dd27-c37942ae8454",
        "colab": {
          "base_uri": "https://localhost:8080/"
        }
      },
      "execution_count": null,
      "outputs": [
        {
          "output_type": "stream",
          "name": "stdout",
          "text": [
            "10\n",
            "20\n",
            "20\n",
            "30\n",
            "40\n",
            "False\n"
          ]
        }
      ]
    },
    {
      "cell_type": "code",
      "source": [
        "def fun(num):\n",
        "  if(num == 0):\n",
        "    return 0\n",
        "  else:\n",
        "    queue.enqueue(num%10)\n",
        "    res=fun(num//10)\n",
        "    digit = queue.dequeue()\n",
        "    res=res*10+digit\n",
        "    return res"
      ],
      "metadata": {
        "id": "7T8TMvHLrs3Z"
      },
      "execution_count": 37,
      "outputs": []
    },
    {
      "cell_type": "code",
      "source": [
        "queue = Queue()"
      ],
      "metadata": {
        "id": "KIT5N0G3ae4E"
      },
      "execution_count": 38,
      "outputs": []
    },
    {
      "cell_type": "code",
      "source": [
        "print(fun(123))"
      ],
      "metadata": {
        "colab": {
          "base_uri": "https://localhost:8080/"
        },
        "id": "5M6-_QPYafgG",
        "outputId": "a499029a-f4f5-4b62-8d90-f4d0f09e08f5"
      },
      "execution_count": 39,
      "outputs": [
        {
          "output_type": "stream",
          "name": "stdout",
          "text": [
            "321\n"
          ]
        }
      ]
    },
    {
      "cell_type": "code",
      "source": [],
      "metadata": {
        "id": "wWJVIJbQa7Ie"
      },
      "execution_count": null,
      "outputs": []
    }
  ]
}