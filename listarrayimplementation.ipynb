{
  "nbformat": 4,
  "nbformat_minor": 0,
  "metadata": {
    "colab": {
      "provenance": [],
      "authorship_tag": "ABX9TyMDbmJfsgjsh0E6JTyVChym",
      "include_colab_link": true
    },
    "kernelspec": {
      "name": "python3",
      "display_name": "Python 3"
    },
    "language_info": {
      "name": "python"
    }
  },
  "cells": [
    {
      "cell_type": "markdown",
      "metadata": {
        "id": "view-in-github",
        "colab_type": "text"
      },
      "source": [
        "<a href=\"https://colab.research.google.com/github/kalp12/google-colab-repo/blob/main/listarrayimplementation.ipynb\" target=\"_parent\"><img src=\"https://colab.research.google.com/assets/colab-badge.svg\" alt=\"Open In Colab\"/></a>"
      ]
    },
    {
      "cell_type": "code",
      "execution_count": null,
      "metadata": {
        "id": "8HjwJZKuDPWP"
      },
      "outputs": [],
      "source": [
        "import ctypes"
      ]
    },
    {
      "cell_type": "code",
      "source": [
        "class Meralist():\n",
        "\n",
        "  def __init__(self):\n",
        "    self.size = 1\n",
        "    self.n = 0\n",
        "    self.Arr = self.__make_array(self.size)\n",
        "\n",
        "  def __make_array(self,capacity):\n",
        "    return (capacity * ctypes.py_object)()\n",
        "\n",
        "  def __len__(self):\n",
        "    return self.n\n",
        "\n",
        "  def append(self,item):\n",
        "    if self.size == self.n:\n",
        "      #resize\n",
        "      self.__resize(self.size * 2)\n",
        "\n",
        "    self.Arr[self.n] = item\n",
        "    self.n +=1\n",
        "\n",
        "  def extend(self, itemlist):\n",
        "\n",
        "    for item in itemlist:\n",
        "      self.append(item)\n",
        "\n",
        "\n",
        "  def merge(self, other_list):\n",
        "    new_list = Meralist()\n",
        "    new_list.extend(self.Arr)\n",
        "    new_list.extend(other_list.Arr)\n",
        "    return new_list\n",
        "\n",
        "  def pop(self):\n",
        "    if self.n == 0:\n",
        "      return (\"Index out of range\")\n",
        "    print(self.Arr[self.n-1])\n",
        "    self.n -= 1\n",
        "\n",
        "  def clear(self):\n",
        "    self.n = 0\n",
        "    self.size = 1\n",
        "\n",
        "  def find(self,item):\n",
        "    for i in range(self.n):\n",
        "      if self.Arr[i] == item:\n",
        "        return i\n",
        "\n",
        "    return 'Value error'\n",
        "\n",
        "  def __delitem__(self,pos):\n",
        "\n",
        "    if pos < 0:\n",
        "        pos = self.n + pos\n",
        "\n",
        "    if 0 <= pos < self.n:\n",
        "      for i in range(pos,self.n-1):\n",
        "        self.Arr[i] = self.Arr[i+1]\n",
        "\n",
        "      self.n -=1\n",
        "    else:\n",
        "        raise IndexError(\"IndexError - index out of range\")\n",
        "\n",
        "  def remove(self, item):\n",
        "    pos = self.find(item)\n",
        "    if type(pos) == int:\n",
        "      print(\"Deleting this \",self.Arr[pos])\n",
        "      return self.__delitem__(pos)\n",
        "    else:\n",
        "      return pos\n",
        "\n",
        "  def insert(self,pos,item):\n",
        "\n",
        "    if self.n == self.size:\n",
        "      self.__resize(self.size * 2)\n",
        "\n",
        "    for i in range(self.n, pos, -1):\n",
        "      self.Arr[i] = self.Arr[i-1]\n",
        "\n",
        "    self.Arr[pos] = item\n",
        "    self.n += 1\n",
        "\n",
        "  def sort(self):\n",
        "    # best way\n",
        "    # sorted_data = sorted(self.Arr[:self.n])\n",
        "    # for i in range(self.n):\n",
        "    #     self.Arr[i] = sorted_data[i]\n",
        "    # Using bubble sort as an example\n",
        "    for i in range(self.n - 1):\n",
        "        for j in range(self.n - 1 - i):\n",
        "            if self.Arr[j] > self.Arr[j + 1]:\n",
        "                # Swap elements if they are in the wrong order\n",
        "                self.Arr[j], self.Arr[j + 1] = self.Arr[j + 1], self.Arr[j]\n",
        "\n",
        "  def min(self):\n",
        "    if self.n == 0:\n",
        "        raise ValueError(\"min() arg is an empty sequence\")\n",
        "    minimum = self.Arr[0]\n",
        "    for i in range(1, self.n):\n",
        "        if self.Arr[i] < minimum:\n",
        "            minimum = self.Arr[i]\n",
        "    return minimum\n",
        "\n",
        "  def max(self):\n",
        "    if self.n == 0:\n",
        "        raise ValueError(\"max() arg is an empty sequence\")\n",
        "    maximum = self.Arr[0]\n",
        "    for i in range(1, self.n):\n",
        "        if self.Arr[i] > maximum:\n",
        "            maximum = self.Arr[i]\n",
        "    return maximum\n",
        "\n",
        "  def sum(self):\n",
        "    sum = 0\n",
        "    for i in range(self.n):\n",
        "      sum += self.Arr[i]\n",
        "    return sum\n",
        "\n",
        "  def __resize(self,new_capacity):\n",
        "    B = self.__make_array(new_capacity)\n",
        "    self.size = new_capacity\n",
        "\n",
        "    for i in range(self.n):\n",
        "      B[i] = self.Arr[i]\n",
        "\n",
        "    self.Arr = B\n",
        "\n",
        "  def __str__(self):\n",
        "    # to print\n",
        "    result = ''\n",
        "    for i in range(self.n):\n",
        "      result += str(self.Arr[i]) + ','\n",
        "    return '[' + result[:-1] + ']'\n",
        "\n",
        "  def __getitem__(self,index):\n",
        "\n",
        "    if isinstance(index, slice):\n",
        "      return self.slicing(index,slice)\n",
        "    #for indexing\n",
        "    # Handle negative indexing\n",
        "    if -self.n <= index < self.n:\n",
        "        return self.Arr[index if index >= 0 else self.n + index] ##n+index is total length of list + trying to access index gives positive index\n",
        "    else:\n",
        "      return \"IndexError - index out of range\"\n",
        "\n",
        "  def slicing(self,index,slice):\n",
        "    start,stop,step = index.start, index.stop, index.step\n",
        "\n",
        "    if start is None:\n",
        "      start=0\n",
        "    if stop is None:\n",
        "      stop=self.n\n",
        "    if step is None:\n",
        "      step=1\n",
        "\n",
        "    if start<0:\n",
        "      start += self.n\n",
        "    if stop<0:\n",
        "      stop += self.n\n",
        "\n",
        "    new_list= Meralist()\n",
        "    for i in range(start,stop,step):\n",
        "      new_list.append(self.Arr[i])\n",
        "    return new_list"
      ],
      "metadata": {
        "id": "FccRHhFmDUOa"
      },
      "execution_count": null,
      "outputs": []
    },
    {
      "cell_type": "code",
      "source": [
        "L = Meralist()"
      ],
      "metadata": {
        "id": "wZo9te1wEn6X"
      },
      "execution_count": null,
      "outputs": []
    },
    {
      "cell_type": "code",
      "source": [
        "len(L)"
      ],
      "metadata": {
        "colab": {
          "base_uri": "https://localhost:8080/"
        },
        "id": "XD7GevvpEqXB",
        "outputId": "936eeca9-3f63-4a27-b44c-83b3d53ac0a6"
      },
      "execution_count": null,
      "outputs": [
        {
          "output_type": "execute_result",
          "data": {
            "text/plain": [
              "13"
            ]
          },
          "metadata": {},
          "execution_count": 239
        }
      ]
    },
    {
      "cell_type": "code",
      "source": [
        "L.append(1)\n",
        "L.append(10)\n",
        "L.append(100)\n",
        "L.append(\"heere\")\n",
        "L.append(100000)\n",
        "L.append(2)\n",
        "L.append(1.2)"
      ],
      "metadata": {
        "id": "RP_OywmCErEJ"
      },
      "execution_count": null,
      "outputs": []
    },
    {
      "cell_type": "code",
      "source": [
        "print(L)"
      ],
      "metadata": {
        "colab": {
          "base_uri": "https://localhost:8080/"
        },
        "id": "vxIRd1LUulcS",
        "outputId": "bf62c063-1988-4800-9248-26f5961e1577"
      },
      "execution_count": null,
      "outputs": [
        {
          "output_type": "stream",
          "name": "stdout",
          "text": [
            "[1,10,100,100000,2,1.2,1,10,100,heere,100000,2,1.2]\n"
          ]
        }
      ]
    },
    {
      "cell_type": "code",
      "source": [
        "L.sum()"
      ],
      "metadata": {
        "colab": {
          "base_uri": "https://localhost:8080/"
        },
        "id": "WPXh8kNPumIv",
        "outputId": "73788b39-09f1-4444-9e4e-3c74921fc3c1"
      },
      "execution_count": null,
      "outputs": [
        {
          "output_type": "execute_result",
          "data": {
            "text/plain": [
              "200227.2"
            ]
          },
          "metadata": {},
          "execution_count": 195
        }
      ]
    },
    {
      "cell_type": "code",
      "source": [
        "print(L[3:10:3])"
      ],
      "metadata": {
        "colab": {
          "base_uri": "https://localhost:8080/"
        },
        "id": "VXyPrhHqwPH5",
        "outputId": "3a3b5fdd-9cd0-40e1-d128-6d39c9a5e7f1"
      },
      "execution_count": null,
      "outputs": [
        {
          "output_type": "stream",
          "name": "stdout",
          "text": [
            "[100000,1,heere]\n"
          ]
        }
      ]
    },
    {
      "cell_type": "code",
      "source": [
        "fruits = ['apple', 'banana', 'cherry']\n",
        "\n",
        "points = [1, 4, 5, 9]\n",
        "a=[10,'hello',30]"
      ],
      "metadata": {
        "id": "h1p7e0NAB-1N"
      },
      "execution_count": null,
      "outputs": []
    },
    {
      "cell_type": "code",
      "source": [
        "fruits[1:]"
      ],
      "metadata": {
        "colab": {
          "base_uri": "https://localhost:8080/"
        },
        "id": "HfGPfVmZMBum",
        "outputId": "d3702557-662a-4ce6-87e7-3d1627a4df9a"
      },
      "execution_count": null,
      "outputs": [
        {
          "output_type": "execute_result",
          "data": {
            "text/plain": [
              "['banana', 'cherry']"
            ]
          },
          "metadata": {},
          "execution_count": 230
        }
      ]
    },
    {
      "cell_type": "code",
      "source": [
        "fruits"
      ],
      "metadata": {
        "colab": {
          "base_uri": "https://localhost:8080/"
        },
        "id": "_MQ0YY-HMFI-",
        "outputId": "7bed0164-578a-4266-983e-df46bcc0068d"
      },
      "execution_count": null,
      "outputs": [
        {
          "output_type": "execute_result",
          "data": {
            "text/plain": [
              "['apple', 'banana', 'cherry', 1, 4, 5, 9, 10, 'hello', 30]"
            ]
          },
          "metadata": {},
          "execution_count": 218
        }
      ]
    },
    {
      "cell_type": "code",
      "source": [
        "L.extend(fruits)\n",
        "# fruits.extend(a)"
      ],
      "metadata": {
        "id": "wWpfUrqeRf0b"
      },
      "execution_count": null,
      "outputs": []
    },
    {
      "cell_type": "code",
      "source": [],
      "metadata": {
        "id": "getZ1iagS9y0"
      },
      "execution_count": null,
      "outputs": []
    }
  ]
}