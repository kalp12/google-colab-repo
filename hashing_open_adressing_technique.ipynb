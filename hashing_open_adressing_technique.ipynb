{
  "nbformat": 4,
  "nbformat_minor": 0,
  "metadata": {
    "colab": {
      "provenance": [],
      "authorship_tag": "ABX9TyMGacYU8KKtUsi4WOoEifhU",
      "include_colab_link": true
    },
    "kernelspec": {
      "name": "python3",
      "display_name": "Python 3"
    },
    "language_info": {
      "name": "python"
    }
  },
  "cells": [
    {
      "cell_type": "markdown",
      "metadata": {
        "id": "view-in-github",
        "colab_type": "text"
      },
      "source": [
        "<a href=\"https://colab.research.google.com/github/kalp12/google-colab-repo/blob/main/hashing_open_adressing_technique.ipynb\" target=\"_parent\"><img src=\"https://colab.research.google.com/assets/colab-badge.svg\" alt=\"Open In Colab\"/></a>"
      ]
    },
    {
      "cell_type": "markdown",
      "source": [
        "**1. Linear Probing**"
      ],
      "metadata": {
        "id": "mRJxXhAAsbUI"
      }
    },
    {
      "cell_type": "code",
      "execution_count": null,
      "metadata": {
        "id": "M0urEJGbETgg"
      },
      "outputs": [],
      "source": [
        "class Dictionary:\n",
        "\n",
        "  def __init__(self, size):\n",
        "    self.size = size\n",
        "    self.slots = [None] * self.size\n",
        "    self.data = [None] * self.size\n",
        "\n",
        "  def put(self, key, value):\n",
        "    hash_value = self.hash_function(key)\n",
        "\n",
        "    if self.slots[hash_value] == None:\n",
        "      self.slots[hash_value] = key\n",
        "      self.data[hash_value] = value\n",
        "\n",
        "    else:\n",
        "\n",
        "      if self.slots[hash_value] == key:\n",
        "        self.data[hash_value] = value\n",
        "      else:\n",
        "        new_hash_value = self.rehash(hash_value)\n",
        "\n",
        "        while self.slots[new_hash_value] != None and self.slots[new_hash_value] != key:\n",
        "          new_hash_value = self.rehash(new_hash_value)\n",
        "\n",
        "        if self.slots[new_hash_value] == None:\n",
        "          self.slots[new_hash_value] = key\n",
        "          self.data[new_hash_value] = value\n",
        "        else:\n",
        "          self.data[new_hash_value] = value\n",
        "\n",
        "  def get(self, key):\n",
        "    start_position = self.hash_function(key)\n",
        "    current_position = start_position\n",
        "\n",
        "    while self.slots[current_position] != None:\n",
        "\n",
        "      if self.slots[current_position] == key:\n",
        "        return self.data[current_position]\n",
        "\n",
        "      current_position = self.rehash(current_position)\n",
        "\n",
        "      if current_position == start_position:\n",
        "        return \"Not Found\"\n",
        "\n",
        "    return \"None wala Not Found\"\n",
        "\n",
        "  def __str__(self):\n",
        "\n",
        "    for i in range(len(self.slots)):\n",
        "      if self.slots[i] != None:\n",
        "        print(self.slots[i],\":\",self.data[i],end=' ')\n",
        "\n",
        "    return \"\"\n",
        "\n",
        "  def __getitem__(self,key):\n",
        "    return self.get(key)\n",
        "\n",
        "  def __setitem__(self,key,value):\n",
        "    self.put(key,value)\n",
        "\n",
        "  def rehash(self, old_hash):\n",
        "    return (old_hash + 1) % self.size\n",
        "\n",
        "\n",
        "  def hash_function(self, key):\n",
        "\n",
        "    return abs(hash(key)) % self.size"
      ]
    },
    {
      "cell_type": "code",
      "source": [
        "hash(123)"
      ],
      "metadata": {
        "colab": {
          "base_uri": "https://localhost:8080/"
        },
        "id": "IhriyZ88JvTQ",
        "outputId": "82999275-67e8-4b34-824d-1d1dc1d776b0"
      },
      "execution_count": null,
      "outputs": [
        {
          "output_type": "execute_result",
          "data": {
            "text/plain": [
              "123"
            ]
          },
          "metadata": {},
          "execution_count": 2
        }
      ]
    },
    {
      "cell_type": "code",
      "source": [
        "abs(hash(\"python\")) % 5"
      ],
      "metadata": {
        "colab": {
          "base_uri": "https://localhost:8080/"
        },
        "id": "cX1ZH4CAJ0HH",
        "outputId": "88596606-c482-4e94-d6c2-7ef6dafa3822"
      },
      "execution_count": null,
      "outputs": [
        {
          "output_type": "execute_result",
          "data": {
            "text/plain": [
              "4"
            ]
          },
          "metadata": {},
          "execution_count": 3
        }
      ]
    },
    {
      "cell_type": "code",
      "source": [
        "D1 = Dictionary(3)"
      ],
      "metadata": {
        "id": "T7U4hQSFJ1Zi"
      },
      "execution_count": null,
      "outputs": []
    },
    {
      "cell_type": "code",
      "source": [
        "print(D1.slots)\n",
        "print(D1.data)"
      ],
      "metadata": {
        "colab": {
          "base_uri": "https://localhost:8080/"
        },
        "id": "Mjs96zZcJ33z",
        "outputId": "93c359a2-a889-4b1e-dfc3-a2b047328f49"
      },
      "execution_count": null,
      "outputs": [
        {
          "output_type": "stream",
          "name": "stdout",
          "text": [
            "[None, None, None]\n",
            "[None, None, None]\n"
          ]
        }
      ]
    },
    {
      "cell_type": "code",
      "source": [
        "D1['python'] = 56\n",
        "D1['c'] = 1000"
      ],
      "metadata": {
        "id": "NJKImrhlJ8uF"
      },
      "execution_count": null,
      "outputs": []
    },
    {
      "cell_type": "code",
      "source": [
        "D1[\"dtjtr\"]"
      ],
      "metadata": {
        "colab": {
          "base_uri": "https://localhost:8080/",
          "height": 36
        },
        "id": "UTlj1sqgJ_l6",
        "outputId": "fe917cb0-3b8b-44ea-a744-7bfa547618f9"
      },
      "execution_count": null,
      "outputs": [
        {
          "output_type": "execute_result",
          "data": {
            "text/plain": [
              "'None wala Not Found'"
            ],
            "application/vnd.google.colaboratory.intrinsic+json": {
              "type": "string"
            }
          },
          "metadata": {},
          "execution_count": 7
        }
      ]
    },
    {
      "cell_type": "code",
      "source": [
        "print(D1)"
      ],
      "metadata": {
        "colab": {
          "base_uri": "https://localhost:8080/"
        },
        "id": "yUeH1vqQKEVB",
        "outputId": "2137cd92-05cb-452b-89bd-e548587c546f"
      },
      "execution_count": null,
      "outputs": [
        {
          "output_type": "stream",
          "name": "stdout",
          "text": [
            "python : 56 c : 1000 \n"
          ]
        }
      ]
    },
    {
      "cell_type": "markdown",
      "source": [
        "**2. Quadratic Probing**"
      ],
      "metadata": {
        "id": "k-1pw_noswiT"
      }
    },
    {
      "cell_type": "code",
      "source": [
        "# @title Default title text\n",
        "class Dictionary:\n",
        "\n",
        "    def __init__(self, size):\n",
        "        self.size = size\n",
        "        self.slots = [None] * self.size\n",
        "        self.data = [None] * self.size\n",
        "\n",
        "    def put(self, key, value):\n",
        "        hash_value = self.hash_function(key)\n",
        "\n",
        "        if self.slots[hash_value] is None:  # Slot is empty\n",
        "            self.slots[hash_value] = key\n",
        "            self.data[hash_value] = value\n",
        "        else:\n",
        "            if self.slots[hash_value] == key:  # Key already exists, update value\n",
        "                self.data[hash_value] = value\n",
        "            else:  # Handle collision with quadratic probing\n",
        "                new_hash_value = self.quadratic_rehash(hash_value, key)\n",
        "                if new_hash_value is not None:  # Valid rehashed slot found\n",
        "                    self.slots[new_hash_value] = key\n",
        "                    self.data[new_hash_value] = value\n",
        "                else:\n",
        "                    raise Exception(\"Hash Table is full\")\n",
        "\n",
        "    def get(self, key):\n",
        "        start_position = self.hash_function(key)\n",
        "        current_position = start_position\n",
        "        i = 1\n",
        "\n",
        "        while self.slots[current_position] is not None:\n",
        "            if self.slots[current_position] == key:\n",
        "                return self.data[current_position]\n",
        "\n",
        "            current_position = (start_position + i * i) % self.size\n",
        "            i += 1\n",
        "\n",
        "            if current_position == start_position:\n",
        "                return \"Not Found\"\n",
        "\n",
        "        return \"Not Found\"\n",
        "\n",
        "    def __str__(self):\n",
        "        for i in range(len(self.slots)):\n",
        "            if self.slots[i] is not None:\n",
        "                print(self.slots[i], \":\", self.data[i], end=' ')\n",
        "        return \"\"\n",
        "\n",
        "    def __getitem__(self, key):\n",
        "        return self.get(key)\n",
        "\n",
        "    def __setitem__(self, key, value):\n",
        "        self.put(key, value)\n",
        "\n",
        "    def quadratic_rehash(self, original_hash, key):\n",
        "        i = 1\n",
        "        while i < self.size:\n",
        "            new_hash = (original_hash + i * i) % self.size\n",
        "            if self.slots[new_hash] is None or self.slots[new_hash] == key:\n",
        "                return new_hash\n",
        "            i += 1\n",
        "        return None  # No slot available, table is full\n",
        "\n",
        "    def hash_function(self, key):\n",
        "        return abs(hash(key)) % self.size\n"
      ],
      "metadata": {
        "id": "nbSSzGx0KFJB"
      },
      "execution_count": null,
      "outputs": []
    },
    {
      "cell_type": "code",
      "source": [
        "d = Dictionary(7)\n",
        "d[10] = \"A\"\n",
        "d[20] = \"B\"\n",
        "d[15] = \"C\"\n",
        "d[25] = \"D\"\n",
        "d[7] = \"E\"\n",
        "print(d)  # Prints the dictionary content\n",
        "print(d[20])  # Output: B\n",
        "print(d[25])  # Output: D\n",
        "d[20] = \"Updated\"\n",
        "print(d[20])  # Output: Updated\n"
      ],
      "metadata": {
        "colab": {
          "base_uri": "https://localhost:8080/"
        },
        "id": "qB7s8yyTs4Lv",
        "outputId": "0a4502cb-6757-4b5e-cdd6-64adfc9762a8"
      },
      "execution_count": null,
      "outputs": [
        {
          "output_type": "stream",
          "name": "stdout",
          "text": [
            "7 : E 15 : C 10 : A 25 : D 20 : B \n",
            "B\n",
            "D\n",
            "Updated\n"
          ]
        }
      ]
    }
  ]
}