{
  "nbformat": 4,
  "nbformat_minor": 0,
  "metadata": {
    "colab": {
      "provenance": [],
      "include_colab_link": true
    },
    "kernelspec": {
      "name": "python3",
      "display_name": "Python 3"
    },
    "language_info": {
      "name": "python"
    }
  },
  "cells": [
    {
      "cell_type": "markdown",
      "metadata": {
        "id": "view-in-github",
        "colab_type": "text"
      },
      "source": [
        "<a href=\"https://colab.research.google.com/github/kalp12/google-colab-repo/blob/main/Heaps_Priority_Queues.ipynb\" target=\"_parent\"><img src=\"https://colab.research.google.com/assets/colab-badge.svg\" alt=\"Open In Colab\"/></a>"
      ]
    },
    {
      "cell_type": "code",
      "source": [
        "# Build Min Heap (Heapify)\n",
        "# Time: O(n), Space: O(1)\n",
        "\n",
        "A = [-4, 3, 1, 0, 2, 5, 10, 8, 12, 9]\n",
        "\n",
        "import heapq\n",
        "heapq.heapify(A)\n",
        "\n",
        "A"
      ],
      "metadata": {
        "colab": {
          "base_uri": "https://localhost:8080/"
        },
        "id": "82OeUGz3aCUN",
        "outputId": "eabd9eb5-17f2-407d-8939-73b636562b49"
      },
      "execution_count": 1,
      "outputs": [
        {
          "output_type": "execute_result",
          "data": {
            "text/plain": [
              "[-4, 0, 1, 3, 2, 5, 10, 8, 12, 9]"
            ]
          },
          "metadata": {},
          "execution_count": 1
        }
      ]
    },
    {
      "cell_type": "code",
      "source": [
        "# Heap Push (Insert element)\n",
        "# Time: O(log n)\n",
        "\n",
        "heapq.heappush(A, 4)\n",
        "\n",
        "A"
      ],
      "metadata": {
        "colab": {
          "base_uri": "https://localhost:8080/"
        },
        "id": "vP4H_ds4aVSc",
        "outputId": "235a10bd-f0f9-45be-e740-a2e9b8d5889f"
      },
      "execution_count": 2,
      "outputs": [
        {
          "output_type": "execute_result",
          "data": {
            "text/plain": [
              "[-4, 0, 1, 3, 2, 5, 10, 8, 12, 9, 4]"
            ]
          },
          "metadata": {},
          "execution_count": 2
        }
      ]
    },
    {
      "cell_type": "code",
      "source": [
        "# Heap Pop (Extract min)\n",
        "# Time: O(log n)\n",
        "\n",
        "minn = heapq.heappop(A)\n",
        "\n",
        "A, minn"
      ],
      "metadata": {
        "colab": {
          "base_uri": "https://localhost:8080/"
        },
        "id": "9LX5tMegawZr",
        "outputId": "0355cfc8-6bac-484a-ea30-04c8204f1a9f"
      },
      "execution_count": 3,
      "outputs": [
        {
          "output_type": "execute_result",
          "data": {
            "text/plain": [
              "([0, 2, 1, 3, 4, 5, 10, 8, 12, 9], -4)"
            ]
          },
          "metadata": {},
          "execution_count": 3
        }
      ]
    },
    {
      "cell_type": "code",
      "source": [
        "# Heap Sort\n",
        "# Time: O(n log n), Space: O(n)\n",
        "# NOTE: O(1) Space is possible via swapping, but this is complex\n",
        "\n",
        "def heapsort(arr):\n",
        "  heapq.heapify(arr)\n",
        "  n = len(arr)\n",
        "  new_list = [0] * n\n",
        "\n",
        "  for i in range(n):\n",
        "    minn = heapq.heappop(arr)\n",
        "    new_list[i] = minn\n",
        "\n",
        "  return new_list\n",
        "\n",
        "heapsort([1, 3, 5, 7, 9, 2, 4, 6, 8, 0])"
      ],
      "metadata": {
        "colab": {
          "base_uri": "https://localhost:8080/"
        },
        "id": "-THGTJRIbFXK",
        "outputId": "4e5fd5bb-d5bf-4c5f-abfd-744ff29908f7"
      },
      "execution_count": 4,
      "outputs": [
        {
          "output_type": "execute_result",
          "data": {
            "text/plain": [
              "[0, 1, 2, 3, 4, 5, 6, 7, 8, 9]"
            ]
          },
          "metadata": {},
          "execution_count": 4
        }
      ]
    },
    {
      "cell_type": "code",
      "source": [
        "# Heap Push Pop: Time: O(log n)\n",
        "\n",
        "heapq.heappushpop(A, 99)\n",
        "A"
      ],
      "metadata": {
        "colab": {
          "base_uri": "https://localhost:8080/"
        },
        "id": "IrqlmOChb31W",
        "outputId": "3f5facf6-15b2-4a94-f949-edd426bb3bd5"
      },
      "execution_count": 5,
      "outputs": [
        {
          "output_type": "execute_result",
          "data": {
            "text/plain": [
              "[1, 2, 5, 3, 4, 99, 10, 8, 12, 9]"
            ]
          },
          "metadata": {},
          "execution_count": 5
        }
      ]
    },
    {
      "cell_type": "code",
      "source": [
        "# Peak at Min: Time O(1)\n",
        "A[0]"
      ],
      "metadata": {
        "colab": {
          "base_uri": "https://localhost:8080/"
        },
        "id": "QfjyPBjieXEH",
        "outputId": "0a795a22-ac21-47c8-cc7a-8ec3d68e9457"
      },
      "execution_count": 6,
      "outputs": [
        {
          "output_type": "execute_result",
          "data": {
            "text/plain": [
              "1"
            ]
          },
          "metadata": {},
          "execution_count": 6
        }
      ]
    },
    {
      "cell_type": "code",
      "source": [
        "# Max Heap\n",
        "\n",
        "B = [-4, 3, 1, 0, 2, 5, 10, 8, 12, 9]\n",
        "n = len(B)\n",
        "\n",
        "for i in range(n):\n",
        "  B[i] = -B[i]\n",
        "\n",
        "heapq.heapify(B)\n",
        "\n",
        "B"
      ],
      "metadata": {
        "colab": {
          "base_uri": "https://localhost:8080/"
        },
        "id": "V12KgoSHcYuz",
        "outputId": "2f019403-069b-4fd0-cb38-115d8ffe19dd"
      },
      "execution_count": 7,
      "outputs": [
        {
          "output_type": "execute_result",
          "data": {
            "text/plain": [
              "[-12, -9, -10, -8, -2, -5, -1, -3, 0, 4]"
            ]
          },
          "metadata": {},
          "execution_count": 7
        }
      ]
    },
    {
      "cell_type": "code",
      "source": [
        "largest = -heapq.heappop(B)\n",
        "\n",
        "largest"
      ],
      "metadata": {
        "colab": {
          "base_uri": "https://localhost:8080/"
        },
        "id": "WllXCvXcc2l4",
        "outputId": "c79423e3-aa9b-4c09-a3fe-16a794557819"
      },
      "execution_count": 8,
      "outputs": [
        {
          "output_type": "execute_result",
          "data": {
            "text/plain": [
              "12"
            ]
          },
          "metadata": {},
          "execution_count": 8
        }
      ]
    },
    {
      "cell_type": "code",
      "source": [
        "heapq.heappush(B, -7) # Insert 7 into max heap\n",
        "\n",
        "B"
      ],
      "metadata": {
        "colab": {
          "base_uri": "https://localhost:8080/"
        },
        "id": "i7FOYVGjdlyg",
        "outputId": "e3431eda-f001-4dd1-e480-c8bf9aef5629"
      },
      "execution_count": 9,
      "outputs": [
        {
          "output_type": "execute_result",
          "data": {
            "text/plain": [
              "[-10, -9, -5, -8, -7, 4, -1, -3, 0, -2]"
            ]
          },
          "metadata": {},
          "execution_count": 9
        }
      ]
    },
    {
      "cell_type": "code",
      "source": [
        "# Build heap from scratch - Time: O(n log n)\n",
        "\n",
        "C = [-5, 4, 2, 1, 7, 0, 3]\n",
        "\n",
        "heap = []\n",
        "\n",
        "for x in C:\n",
        "  heapq.heappush(heap, x)\n",
        "  print(heap, len(heap)) # Check size of heap"
      ],
      "metadata": {
        "colab": {
          "base_uri": "https://localhost:8080/"
        },
        "id": "K9KFBfCjeOer",
        "outputId": "05bdaf13-ad8a-466a-f21f-d504abcef62e"
      },
      "execution_count": 10,
      "outputs": [
        {
          "output_type": "stream",
          "name": "stdout",
          "text": [
            "[-5] 1\n",
            "[-5, 4] 2\n",
            "[-5, 4, 2] 3\n",
            "[-5, 1, 2, 4] 4\n",
            "[-5, 1, 2, 4, 7] 5\n",
            "[-5, 1, 0, 4, 7, 2] 6\n",
            "[-5, 1, 0, 4, 7, 2, 3] 7\n"
          ]
        }
      ]
    },
    {
      "cell_type": "code",
      "source": [
        "# Putting tuples of items on the heap\n",
        "\n",
        "D = [5, 4, 3, 5, 4, 3, 5, 5, 4]\n",
        "\n",
        "from collections import Counter\n",
        "\n",
        "counter = Counter(D)\n",
        "\n",
        "counter"
      ],
      "metadata": {
        "colab": {
          "base_uri": "https://localhost:8080/"
        },
        "id": "7i54l3yZifSF",
        "outputId": "57086494-2640-4481-cd41-25f2af965dc4"
      },
      "execution_count": 11,
      "outputs": [
        {
          "output_type": "execute_result",
          "data": {
            "text/plain": [
              "Counter({5: 4, 4: 3, 3: 2})"
            ]
          },
          "metadata": {},
          "execution_count": 11
        }
      ]
    },
    {
      "cell_type": "code",
      "source": [
        "heap = []\n",
        "\n",
        "for k, v in counter.items():\n",
        "  heapq.heappush(heap, (v, k))\n",
        "\n",
        "heap"
      ],
      "metadata": {
        "colab": {
          "base_uri": "https://localhost:8080/"
        },
        "id": "3R-IXtgDixvp",
        "outputId": "8e48e207-af9c-4fa1-ab51-4cf039b6c715"
      },
      "execution_count": 12,
      "outputs": [
        {
          "output_type": "execute_result",
          "data": {
            "text/plain": [
              "[(2, 3), (4, 5), (3, 4)]"
            ]
          },
          "metadata": {},
          "execution_count": 12
        }
      ]
    }
  ]
}